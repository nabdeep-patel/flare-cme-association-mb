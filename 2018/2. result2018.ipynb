{
 "cells": [
  {
   "cell_type": "code",
   "execution_count": 2,
   "metadata": {
    "executionInfo": {
     "elapsed": 6,
     "status": "ok",
     "timestamp": 1742301776188,
     "user": {
      "displayName": "Nabdeep Patel",
      "userId": "07676539631953903860"
     },
     "user_tz": -330
    },
    "id": "souPRkgdRgrE"
   },
   "outputs": [],
   "source": [
    "import pandas as pd\n",
    "import numpy as np\n",
    "import matplotlib.pyplot as plt"
   ]
  },
  {
   "cell_type": "code",
   "execution_count": 3,
   "metadata": {
    "executionInfo": {
     "elapsed": 1524,
     "status": "ok",
     "timestamp": 1742301777713,
     "user": {
      "displayName": "Nabdeep Patel",
      "userId": "07676539631953903860"
     },
     "user_tz": -330
    },
    "id": "nWofS-gURgrG"
   },
   "outputs": [],
   "source": [
    "positive = pd.read_csv(\"positive_2018.csv\")\n",
    "negative = pd.read_csv(\"negative_2018.csv\")"
   ]
  },
  {
   "cell_type": "code",
   "execution_count": 4,
   "metadata": {
    "colab": {
     "base_uri": "https://localhost:8080/",
     "height": 461
    },
    "executionInfo": {
     "elapsed": 27,
     "status": "ok",
     "timestamp": 1742301777738,
     "user": {
      "displayName": "Nabdeep Patel",
      "userId": "07676539631953903860"
     },
     "user_tz": -330
    },
    "id": "kXvVm_3dRgrH",
    "outputId": "9c393d7c-1521-47ba-ada6-f327c8111ac8"
   },
   "outputs": [
    {
     "data": {
      "text/html": [
       "<div>\n",
       "<style scoped>\n",
       "    .dataframe tbody tr th:only-of-type {\n",
       "        vertical-align: middle;\n",
       "    }\n",
       "\n",
       "    .dataframe tbody tr th {\n",
       "        vertical-align: top;\n",
       "    }\n",
       "\n",
       "    .dataframe thead th {\n",
       "        text-align: right;\n",
       "    }\n",
       "</style>\n",
       "<table border=\"1\" class=\"dataframe\">\n",
       "  <thead>\n",
       "    <tr style=\"text-align: right;\">\n",
       "      <th></th>\n",
       "      <th>Unnamed: 0</th>\n",
       "      <th>USFLUX</th>\n",
       "      <th>MEANGBT</th>\n",
       "      <th>MEANJZH</th>\n",
       "      <th>MEANPOT</th>\n",
       "      <th>SHRGT45</th>\n",
       "      <th>TOTUSJH</th>\n",
       "      <th>MEANGBH</th>\n",
       "      <th>MEANALP</th>\n",
       "      <th>MEANGAM</th>\n",
       "      <th>...</th>\n",
       "      <th>SAVNCPP</th>\n",
       "      <th>TOTPOT</th>\n",
       "      <th>MEANSHR</th>\n",
       "      <th>AREA_ACR</th>\n",
       "      <th>R_VALUE</th>\n",
       "      <th>ABSNJZH</th>\n",
       "      <th>HARPNUM</th>\n",
       "      <th>NOAA</th>\n",
       "      <th>Class</th>\n",
       "      <th>Peak Time</th>\n",
       "    </tr>\n",
       "  </thead>\n",
       "  <tbody>\n",
       "    <tr>\n",
       "      <th>0</th>\n",
       "      <td>0</td>\n",
       "      <td>2.246101e+22</td>\n",
       "      <td>107.736</td>\n",
       "      <td>0.021724</td>\n",
       "      <td>15533.100</td>\n",
       "      <td>54.882</td>\n",
       "      <td>2975.118</td>\n",
       "      <td>77.983</td>\n",
       "      <td>0.041413</td>\n",
       "      <td>59.541</td>\n",
       "      <td>...</td>\n",
       "      <td>1.226148e+13</td>\n",
       "      <td>7.077275e+23</td>\n",
       "      <td>50.329</td>\n",
       "      <td>945.314636</td>\n",
       "      <td>4.805</td>\n",
       "      <td>745.287</td>\n",
       "      <td>377</td>\n",
       "      <td>11158</td>\n",
       "      <td>X2.2</td>\n",
       "      <td>2011.02.14_01:56_TAI</td>\n",
       "    </tr>\n",
       "    <tr>\n",
       "      <th>1</th>\n",
       "      <td>1</td>\n",
       "      <td>2.235615e+22</td>\n",
       "      <td>93.863</td>\n",
       "      <td>-0.001943</td>\n",
       "      <td>10914.060</td>\n",
       "      <td>44.178</td>\n",
       "      <td>1636.710</td>\n",
       "      <td>56.639</td>\n",
       "      <td>-0.003942</td>\n",
       "      <td>50.680</td>\n",
       "      <td>...</td>\n",
       "      <td>3.884153e+12</td>\n",
       "      <td>4.733711e+23</td>\n",
       "      <td>43.479</td>\n",
       "      <td>961.502686</td>\n",
       "      <td>4.303</td>\n",
       "      <td>63.441</td>\n",
       "      <td>401</td>\n",
       "      <td>11166</td>\n",
       "      <td>M2.0</td>\n",
       "      <td>2011.03.06_14:30_TAI</td>\n",
       "    </tr>\n",
       "    <tr>\n",
       "      <th>2</th>\n",
       "      <td>2</td>\n",
       "      <td>6.039302e+22</td>\n",
       "      <td>91.233</td>\n",
       "      <td>0.007535</td>\n",
       "      <td>9912.353</td>\n",
       "      <td>29.044</td>\n",
       "      <td>4229.148</td>\n",
       "      <td>49.560</td>\n",
       "      <td>0.015028</td>\n",
       "      <td>41.150</td>\n",
       "      <td>...</td>\n",
       "      <td>3.430647e+13</td>\n",
       "      <td>1.074422e+24</td>\n",
       "      <td>35.873</td>\n",
       "      <td>1934.446167</td>\n",
       "      <td>4.865</td>\n",
       "      <td>615.008</td>\n",
       "      <td>393</td>\n",
       "      <td>11164</td>\n",
       "      <td>M3.7</td>\n",
       "      <td>2011.03.06_20:12_TAI</td>\n",
       "    </tr>\n",
       "    <tr>\n",
       "      <th>3</th>\n",
       "      <td>3</td>\n",
       "      <td>2.384940e+22</td>\n",
       "      <td>109.706</td>\n",
       "      <td>0.009620</td>\n",
       "      <td>3703.910</td>\n",
       "      <td>13.500</td>\n",
       "      <td>1505.331</td>\n",
       "      <td>47.602</td>\n",
       "      <td>0.030907</td>\n",
       "      <td>34.321</td>\n",
       "      <td>...</td>\n",
       "      <td>1.969386e+13</td>\n",
       "      <td>1.879337e+23</td>\n",
       "      <td>28.525</td>\n",
       "      <td>970.551636</td>\n",
       "      <td>3.971</td>\n",
       "      <td>367.530</td>\n",
       "      <td>637</td>\n",
       "      <td>11226</td>\n",
       "      <td>M2.5</td>\n",
       "      <td>2011.06.06_06:41_TAI</td>\n",
       "    </tr>\n",
       "    <tr>\n",
       "      <th>4</th>\n",
       "      <td>4</td>\n",
       "      <td>1.989983e+22</td>\n",
       "      <td>109.891</td>\n",
       "      <td>0.032849</td>\n",
       "      <td>12062.610</td>\n",
       "      <td>44.090</td>\n",
       "      <td>2547.054</td>\n",
       "      <td>73.681</td>\n",
       "      <td>0.079865</td>\n",
       "      <td>53.270</td>\n",
       "      <td>...</td>\n",
       "      <td>4.460671e+13</td>\n",
       "      <td>5.269515e+23</td>\n",
       "      <td>43.929</td>\n",
       "      <td>1259.099854</td>\n",
       "      <td>4.777</td>\n",
       "      <td>1080.528</td>\n",
       "      <td>750</td>\n",
       "      <td>11261</td>\n",
       "      <td>M6.0</td>\n",
       "      <td>2011.08.02_13:48_TAI</td>\n",
       "    </tr>\n",
       "    <tr>\n",
       "      <th>...</th>\n",
       "      <td>...</td>\n",
       "      <td>...</td>\n",
       "      <td>...</td>\n",
       "      <td>...</td>\n",
       "      <td>...</td>\n",
       "      <td>...</td>\n",
       "      <td>...</td>\n",
       "      <td>...</td>\n",
       "      <td>...</td>\n",
       "      <td>...</td>\n",
       "      <td>...</td>\n",
       "      <td>...</td>\n",
       "      <td>...</td>\n",
       "      <td>...</td>\n",
       "      <td>...</td>\n",
       "      <td>...</td>\n",
       "      <td>...</td>\n",
       "      <td>...</td>\n",
       "      <td>...</td>\n",
       "      <td>...</td>\n",
       "      <td>...</td>\n",
       "    </tr>\n",
       "    <tr>\n",
       "      <th>502</th>\n",
       "      <td>421</td>\n",
       "      <td>5.405734e+22</td>\n",
       "      <td>96.225</td>\n",
       "      <td>-0.040161</td>\n",
       "      <td>17940.450</td>\n",
       "      <td>40.353</td>\n",
       "      <td>6883.232</td>\n",
       "      <td>63.221</td>\n",
       "      <td>-0.057003</td>\n",
       "      <td>47.062</td>\n",
       "      <td>...</td>\n",
       "      <td>7.263320e+13</td>\n",
       "      <td>1.584434e+24</td>\n",
       "      <td>41.244</td>\n",
       "      <td>1767.386841</td>\n",
       "      <td>5.134</td>\n",
       "      <td>2670.696</td>\n",
       "      <td>7115</td>\n",
       "      <td>12673</td>\n",
       "      <td>M1.3</td>\n",
       "      <td>2017.09.07_02:24_TAI</td>\n",
       "    </tr>\n",
       "    <tr>\n",
       "      <th>503</th>\n",
       "      <td>422</td>\n",
       "      <td>5.613295e+22</td>\n",
       "      <td>93.027</td>\n",
       "      <td>-0.038322</td>\n",
       "      <td>15304.870</td>\n",
       "      <td>35.437</td>\n",
       "      <td>5842.066</td>\n",
       "      <td>57.352</td>\n",
       "      <td>-0.061129</td>\n",
       "      <td>45.110</td>\n",
       "      <td>...</td>\n",
       "      <td>7.511389e+13</td>\n",
       "      <td>1.433866e+24</td>\n",
       "      <td>39.519</td>\n",
       "      <td>1905.817749</td>\n",
       "      <td>5.048</td>\n",
       "      <td>2703.341</td>\n",
       "      <td>7115</td>\n",
       "      <td>12673</td>\n",
       "      <td>M2.9</td>\n",
       "      <td>2017.09.07_15:47_TAI</td>\n",
       "    </tr>\n",
       "    <tr>\n",
       "      <th>504</th>\n",
       "      <td>423</td>\n",
       "      <td>5.941742e+22</td>\n",
       "      <td>85.360</td>\n",
       "      <td>-0.023854</td>\n",
       "      <td>12979.840</td>\n",
       "      <td>31.876</td>\n",
       "      <td>5518.212</td>\n",
       "      <td>52.930</td>\n",
       "      <td>-0.039883</td>\n",
       "      <td>42.963</td>\n",
       "      <td>...</td>\n",
       "      <td>4.533080e+13</td>\n",
       "      <td>1.299920e+24</td>\n",
       "      <td>37.017</td>\n",
       "      <td>1836.984009</td>\n",
       "      <td>4.914</td>\n",
       "      <td>1798.802</td>\n",
       "      <td>7115</td>\n",
       "      <td>12673</td>\n",
       "      <td>M2.1</td>\n",
       "      <td>2017.09.07_23:45_TAI</td>\n",
       "    </tr>\n",
       "    <tr>\n",
       "      <th>505</th>\n",
       "      <td>424</td>\n",
       "      <td>5.996130e+22</td>\n",
       "      <td>88.774</td>\n",
       "      <td>-0.020632</td>\n",
       "      <td>13169.540</td>\n",
       "      <td>30.936</td>\n",
       "      <td>5637.013</td>\n",
       "      <td>54.109</td>\n",
       "      <td>-0.033380</td>\n",
       "      <td>42.638</td>\n",
       "      <td>...</td>\n",
       "      <td>3.758647e+13</td>\n",
       "      <td>1.289169e+24</td>\n",
       "      <td>36.550</td>\n",
       "      <td>1864.373535</td>\n",
       "      <td>4.874</td>\n",
       "      <td>1520.726</td>\n",
       "      <td>7115</td>\n",
       "      <td>12673</td>\n",
       "      <td>M1.1</td>\n",
       "      <td>2017.09.08_04:28_TAI</td>\n",
       "    </tr>\n",
       "    <tr>\n",
       "      <th>506</th>\n",
       "      <td>425</td>\n",
       "      <td>5.913498e+22</td>\n",
       "      <td>81.271</td>\n",
       "      <td>-0.015055</td>\n",
       "      <td>12746.750</td>\n",
       "      <td>31.506</td>\n",
       "      <td>5008.233</td>\n",
       "      <td>50.062</td>\n",
       "      <td>-0.027186</td>\n",
       "      <td>43.701</td>\n",
       "      <td>...</td>\n",
       "      <td>3.000342e+13</td>\n",
       "      <td>1.312024e+24</td>\n",
       "      <td>36.896</td>\n",
       "      <td>1862.405640</td>\n",
       "      <td>4.874</td>\n",
       "      <td>1166.753</td>\n",
       "      <td>7115</td>\n",
       "      <td>12673</td>\n",
       "      <td>M3.7</td>\n",
       "      <td>2017.09.08_11:04_TAI</td>\n",
       "    </tr>\n",
       "  </tbody>\n",
       "</table>\n",
       "<p>507 rows × 23 columns</p>\n",
       "</div>"
      ],
      "text/plain": [
       "     Unnamed: 0        USFLUX  MEANGBT   MEANJZH    MEANPOT  SHRGT45  \\\n",
       "0             0  2.246101e+22  107.736  0.021724  15533.100   54.882   \n",
       "1             1  2.235615e+22   93.863 -0.001943  10914.060   44.178   \n",
       "2             2  6.039302e+22   91.233  0.007535   9912.353   29.044   \n",
       "3             3  2.384940e+22  109.706  0.009620   3703.910   13.500   \n",
       "4             4  1.989983e+22  109.891  0.032849  12062.610   44.090   \n",
       "..          ...           ...      ...       ...        ...      ...   \n",
       "502         421  5.405734e+22   96.225 -0.040161  17940.450   40.353   \n",
       "503         422  5.613295e+22   93.027 -0.038322  15304.870   35.437   \n",
       "504         423  5.941742e+22   85.360 -0.023854  12979.840   31.876   \n",
       "505         424  5.996130e+22   88.774 -0.020632  13169.540   30.936   \n",
       "506         425  5.913498e+22   81.271 -0.015055  12746.750   31.506   \n",
       "\n",
       "      TOTUSJH  MEANGBH   MEANALP  MEANGAM  ...       SAVNCPP        TOTPOT  \\\n",
       "0    2975.118   77.983  0.041413   59.541  ...  1.226148e+13  7.077275e+23   \n",
       "1    1636.710   56.639 -0.003942   50.680  ...  3.884153e+12  4.733711e+23   \n",
       "2    4229.148   49.560  0.015028   41.150  ...  3.430647e+13  1.074422e+24   \n",
       "3    1505.331   47.602  0.030907   34.321  ...  1.969386e+13  1.879337e+23   \n",
       "4    2547.054   73.681  0.079865   53.270  ...  4.460671e+13  5.269515e+23   \n",
       "..        ...      ...       ...      ...  ...           ...           ...   \n",
       "502  6883.232   63.221 -0.057003   47.062  ...  7.263320e+13  1.584434e+24   \n",
       "503  5842.066   57.352 -0.061129   45.110  ...  7.511389e+13  1.433866e+24   \n",
       "504  5518.212   52.930 -0.039883   42.963  ...  4.533080e+13  1.299920e+24   \n",
       "505  5637.013   54.109 -0.033380   42.638  ...  3.758647e+13  1.289169e+24   \n",
       "506  5008.233   50.062 -0.027186   43.701  ...  3.000342e+13  1.312024e+24   \n",
       "\n",
       "     MEANSHR     AREA_ACR  R_VALUE   ABSNJZH  HARPNUM   NOAA  Class  \\\n",
       "0     50.329   945.314636    4.805   745.287      377  11158   X2.2   \n",
       "1     43.479   961.502686    4.303    63.441      401  11166   M2.0   \n",
       "2     35.873  1934.446167    4.865   615.008      393  11164   M3.7   \n",
       "3     28.525   970.551636    3.971   367.530      637  11226   M2.5   \n",
       "4     43.929  1259.099854    4.777  1080.528      750  11261   M6.0   \n",
       "..       ...          ...      ...       ...      ...    ...    ...   \n",
       "502   41.244  1767.386841    5.134  2670.696     7115  12673   M1.3   \n",
       "503   39.519  1905.817749    5.048  2703.341     7115  12673   M2.9   \n",
       "504   37.017  1836.984009    4.914  1798.802     7115  12673   M2.1   \n",
       "505   36.550  1864.373535    4.874  1520.726     7115  12673   M1.1   \n",
       "506   36.896  1862.405640    4.874  1166.753     7115  12673   M3.7   \n",
       "\n",
       "                Peak Time  \n",
       "0    2011.02.14_01:56_TAI  \n",
       "1    2011.03.06_14:30_TAI  \n",
       "2    2011.03.06_20:12_TAI  \n",
       "3    2011.06.06_06:41_TAI  \n",
       "4    2011.08.02_13:48_TAI  \n",
       "..                    ...  \n",
       "502  2017.09.07_02:24_TAI  \n",
       "503  2017.09.07_15:47_TAI  \n",
       "504  2017.09.07_23:45_TAI  \n",
       "505  2017.09.08_04:28_TAI  \n",
       "506  2017.09.08_11:04_TAI  \n",
       "\n",
       "[507 rows x 23 columns]"
      ]
     },
     "execution_count": 4,
     "metadata": {},
     "output_type": "execute_result"
    }
   ],
   "source": [
    "data = pd.concat([positive,negative],axis =0,ignore_index=True)\n",
    "data"
   ]
  },
  {
   "cell_type": "code",
   "execution_count": 5,
   "metadata": {
    "colab": {
     "base_uri": "https://localhost:8080/",
     "height": 443
    },
    "executionInfo": {
     "elapsed": 82,
     "status": "ok",
     "timestamp": 1742301777820,
     "user": {
      "displayName": "Nabdeep Patel",
      "userId": "07676539631953903860"
     },
     "user_tz": -330
    },
    "id": "eNqUnxWpRgrH",
    "outputId": "2a988620-a35c-4c5f-a861-db853829f430"
   },
   "outputs": [
    {
     "data": {
      "text/html": [
       "<div>\n",
       "<style scoped>\n",
       "    .dataframe tbody tr th:only-of-type {\n",
       "        vertical-align: middle;\n",
       "    }\n",
       "\n",
       "    .dataframe tbody tr th {\n",
       "        vertical-align: top;\n",
       "    }\n",
       "\n",
       "    .dataframe thead th {\n",
       "        text-align: right;\n",
       "    }\n",
       "</style>\n",
       "<table border=\"1\" class=\"dataframe\">\n",
       "  <thead>\n",
       "    <tr style=\"text-align: right;\">\n",
       "      <th></th>\n",
       "      <th>USFLUX</th>\n",
       "      <th>MEANGBT</th>\n",
       "      <th>MEANJZH</th>\n",
       "      <th>MEANPOT</th>\n",
       "      <th>SHRGT45</th>\n",
       "      <th>TOTUSJH</th>\n",
       "      <th>MEANGBH</th>\n",
       "      <th>MEANALP</th>\n",
       "      <th>MEANGAM</th>\n",
       "      <th>MEANGBZ</th>\n",
       "      <th>MEANJZD</th>\n",
       "      <th>TOTUSJZ</th>\n",
       "      <th>SAVNCPP</th>\n",
       "      <th>TOTPOT</th>\n",
       "      <th>MEANSHR</th>\n",
       "      <th>AREA_ACR</th>\n",
       "      <th>R_VALUE</th>\n",
       "      <th>ABSNJZH</th>\n",
       "    </tr>\n",
       "  </thead>\n",
       "  <tbody>\n",
       "    <tr>\n",
       "      <th>0</th>\n",
       "      <td>2.246101e+22</td>\n",
       "      <td>107.736</td>\n",
       "      <td>0.021724</td>\n",
       "      <td>15533.100</td>\n",
       "      <td>54.882</td>\n",
       "      <td>2975.118</td>\n",
       "      <td>77.983</td>\n",
       "      <td>0.041413</td>\n",
       "      <td>59.541</td>\n",
       "      <td>117.582</td>\n",
       "      <td>0.104880</td>\n",
       "      <td>5.032922e+13</td>\n",
       "      <td>1.226148e+13</td>\n",
       "      <td>7.077275e+23</td>\n",
       "      <td>50.329</td>\n",
       "      <td>945.314636</td>\n",
       "      <td>4.805</td>\n",
       "      <td>745.287</td>\n",
       "    </tr>\n",
       "    <tr>\n",
       "      <th>1</th>\n",
       "      <td>2.235615e+22</td>\n",
       "      <td>93.863</td>\n",
       "      <td>-0.001943</td>\n",
       "      <td>10914.060</td>\n",
       "      <td>44.178</td>\n",
       "      <td>1636.710</td>\n",
       "      <td>56.639</td>\n",
       "      <td>-0.003942</td>\n",
       "      <td>50.680</td>\n",
       "      <td>99.163</td>\n",
       "      <td>0.130367</td>\n",
       "      <td>3.344854e+13</td>\n",
       "      <td>3.884153e+12</td>\n",
       "      <td>4.733711e+23</td>\n",
       "      <td>43.479</td>\n",
       "      <td>961.502686</td>\n",
       "      <td>4.303</td>\n",
       "      <td>63.441</td>\n",
       "    </tr>\n",
       "    <tr>\n",
       "      <th>2</th>\n",
       "      <td>6.039302e+22</td>\n",
       "      <td>91.233</td>\n",
       "      <td>0.007535</td>\n",
       "      <td>9912.353</td>\n",
       "      <td>29.044</td>\n",
       "      <td>4229.148</td>\n",
       "      <td>49.560</td>\n",
       "      <td>0.015028</td>\n",
       "      <td>41.150</td>\n",
       "      <td>100.010</td>\n",
       "      <td>-0.131131</td>\n",
       "      <td>7.631205e+13</td>\n",
       "      <td>3.430647e+13</td>\n",
       "      <td>1.074422e+24</td>\n",
       "      <td>35.873</td>\n",
       "      <td>1934.446167</td>\n",
       "      <td>4.865</td>\n",
       "      <td>615.008</td>\n",
       "    </tr>\n",
       "    <tr>\n",
       "      <th>3</th>\n",
       "      <td>2.384940e+22</td>\n",
       "      <td>109.706</td>\n",
       "      <td>0.009620</td>\n",
       "      <td>3703.910</td>\n",
       "      <td>13.500</td>\n",
       "      <td>1505.331</td>\n",
       "      <td>47.602</td>\n",
       "      <td>0.030907</td>\n",
       "      <td>34.321</td>\n",
       "      <td>110.939</td>\n",
       "      <td>0.004581</td>\n",
       "      <td>3.136324e+13</td>\n",
       "      <td>1.969386e+13</td>\n",
       "      <td>1.879337e+23</td>\n",
       "      <td>28.525</td>\n",
       "      <td>970.551636</td>\n",
       "      <td>3.971</td>\n",
       "      <td>367.530</td>\n",
       "    </tr>\n",
       "    <tr>\n",
       "      <th>4</th>\n",
       "      <td>1.989983e+22</td>\n",
       "      <td>109.891</td>\n",
       "      <td>0.032849</td>\n",
       "      <td>12062.610</td>\n",
       "      <td>44.090</td>\n",
       "      <td>2547.054</td>\n",
       "      <td>73.681</td>\n",
       "      <td>0.079865</td>\n",
       "      <td>53.270</td>\n",
       "      <td>115.866</td>\n",
       "      <td>0.322013</td>\n",
       "      <td>4.301247e+13</td>\n",
       "      <td>4.460671e+13</td>\n",
       "      <td>5.269515e+23</td>\n",
       "      <td>43.929</td>\n",
       "      <td>1259.099854</td>\n",
       "      <td>4.777</td>\n",
       "      <td>1080.528</td>\n",
       "    </tr>\n",
       "    <tr>\n",
       "      <th>...</th>\n",
       "      <td>...</td>\n",
       "      <td>...</td>\n",
       "      <td>...</td>\n",
       "      <td>...</td>\n",
       "      <td>...</td>\n",
       "      <td>...</td>\n",
       "      <td>...</td>\n",
       "      <td>...</td>\n",
       "      <td>...</td>\n",
       "      <td>...</td>\n",
       "      <td>...</td>\n",
       "      <td>...</td>\n",
       "      <td>...</td>\n",
       "      <td>...</td>\n",
       "      <td>...</td>\n",
       "      <td>...</td>\n",
       "      <td>...</td>\n",
       "      <td>...</td>\n",
       "    </tr>\n",
       "    <tr>\n",
       "      <th>502</th>\n",
       "      <td>5.405734e+22</td>\n",
       "      <td>96.225</td>\n",
       "      <td>-0.040161</td>\n",
       "      <td>17940.450</td>\n",
       "      <td>40.353</td>\n",
       "      <td>6883.232</td>\n",
       "      <td>63.221</td>\n",
       "      <td>-0.057003</td>\n",
       "      <td>47.062</td>\n",
       "      <td>110.593</td>\n",
       "      <td>-0.286930</td>\n",
       "      <td>8.558644e+13</td>\n",
       "      <td>7.263320e+13</td>\n",
       "      <td>1.584434e+24</td>\n",
       "      <td>41.244</td>\n",
       "      <td>1767.386841</td>\n",
       "      <td>5.134</td>\n",
       "      <td>2670.696</td>\n",
       "    </tr>\n",
       "    <tr>\n",
       "      <th>503</th>\n",
       "      <td>5.613295e+22</td>\n",
       "      <td>93.027</td>\n",
       "      <td>-0.038322</td>\n",
       "      <td>15304.870</td>\n",
       "      <td>35.437</td>\n",
       "      <td>5842.066</td>\n",
       "      <td>57.352</td>\n",
       "      <td>-0.061129</td>\n",
       "      <td>45.110</td>\n",
       "      <td>106.716</td>\n",
       "      <td>-0.163010</td>\n",
       "      <td>8.183662e+13</td>\n",
       "      <td>7.511389e+13</td>\n",
       "      <td>1.433866e+24</td>\n",
       "      <td>39.519</td>\n",
       "      <td>1905.817749</td>\n",
       "      <td>5.048</td>\n",
       "      <td>2703.341</td>\n",
       "    </tr>\n",
       "    <tr>\n",
       "      <th>504</th>\n",
       "      <td>5.941742e+22</td>\n",
       "      <td>85.360</td>\n",
       "      <td>-0.023854</td>\n",
       "      <td>12979.840</td>\n",
       "      <td>31.876</td>\n",
       "      <td>5518.212</td>\n",
       "      <td>52.930</td>\n",
       "      <td>-0.039883</td>\n",
       "      <td>42.963</td>\n",
       "      <td>98.952</td>\n",
       "      <td>-0.069941</td>\n",
       "      <td>7.912112e+13</td>\n",
       "      <td>4.533080e+13</td>\n",
       "      <td>1.299920e+24</td>\n",
       "      <td>37.017</td>\n",
       "      <td>1836.984009</td>\n",
       "      <td>4.914</td>\n",
       "      <td>1798.802</td>\n",
       "    </tr>\n",
       "    <tr>\n",
       "      <th>505</th>\n",
       "      <td>5.996130e+22</td>\n",
       "      <td>88.774</td>\n",
       "      <td>-0.020632</td>\n",
       "      <td>13169.540</td>\n",
       "      <td>30.936</td>\n",
       "      <td>5637.013</td>\n",
       "      <td>54.109</td>\n",
       "      <td>-0.033380</td>\n",
       "      <td>42.638</td>\n",
       "      <td>104.543</td>\n",
       "      <td>-0.121116</td>\n",
       "      <td>7.962703e+13</td>\n",
       "      <td>3.758647e+13</td>\n",
       "      <td>1.289169e+24</td>\n",
       "      <td>36.550</td>\n",
       "      <td>1864.373535</td>\n",
       "      <td>4.874</td>\n",
       "      <td>1520.726</td>\n",
       "    </tr>\n",
       "    <tr>\n",
       "      <th>506</th>\n",
       "      <td>5.913498e+22</td>\n",
       "      <td>81.271</td>\n",
       "      <td>-0.015055</td>\n",
       "      <td>12746.750</td>\n",
       "      <td>31.506</td>\n",
       "      <td>5008.233</td>\n",
       "      <td>50.062</td>\n",
       "      <td>-0.027186</td>\n",
       "      <td>43.701</td>\n",
       "      <td>96.886</td>\n",
       "      <td>-0.111856</td>\n",
       "      <td>7.584397e+13</td>\n",
       "      <td>3.000342e+13</td>\n",
       "      <td>1.312024e+24</td>\n",
       "      <td>36.896</td>\n",
       "      <td>1862.405640</td>\n",
       "      <td>4.874</td>\n",
       "      <td>1166.753</td>\n",
       "    </tr>\n",
       "  </tbody>\n",
       "</table>\n",
       "<p>507 rows × 18 columns</p>\n",
       "</div>"
      ],
      "text/plain": [
       "           USFLUX  MEANGBT   MEANJZH    MEANPOT  SHRGT45   TOTUSJH  MEANGBH  \\\n",
       "0    2.246101e+22  107.736  0.021724  15533.100   54.882  2975.118   77.983   \n",
       "1    2.235615e+22   93.863 -0.001943  10914.060   44.178  1636.710   56.639   \n",
       "2    6.039302e+22   91.233  0.007535   9912.353   29.044  4229.148   49.560   \n",
       "3    2.384940e+22  109.706  0.009620   3703.910   13.500  1505.331   47.602   \n",
       "4    1.989983e+22  109.891  0.032849  12062.610   44.090  2547.054   73.681   \n",
       "..            ...      ...       ...        ...      ...       ...      ...   \n",
       "502  5.405734e+22   96.225 -0.040161  17940.450   40.353  6883.232   63.221   \n",
       "503  5.613295e+22   93.027 -0.038322  15304.870   35.437  5842.066   57.352   \n",
       "504  5.941742e+22   85.360 -0.023854  12979.840   31.876  5518.212   52.930   \n",
       "505  5.996130e+22   88.774 -0.020632  13169.540   30.936  5637.013   54.109   \n",
       "506  5.913498e+22   81.271 -0.015055  12746.750   31.506  5008.233   50.062   \n",
       "\n",
       "      MEANALP  MEANGAM  MEANGBZ   MEANJZD       TOTUSJZ       SAVNCPP  \\\n",
       "0    0.041413   59.541  117.582  0.104880  5.032922e+13  1.226148e+13   \n",
       "1   -0.003942   50.680   99.163  0.130367  3.344854e+13  3.884153e+12   \n",
       "2    0.015028   41.150  100.010 -0.131131  7.631205e+13  3.430647e+13   \n",
       "3    0.030907   34.321  110.939  0.004581  3.136324e+13  1.969386e+13   \n",
       "4    0.079865   53.270  115.866  0.322013  4.301247e+13  4.460671e+13   \n",
       "..        ...      ...      ...       ...           ...           ...   \n",
       "502 -0.057003   47.062  110.593 -0.286930  8.558644e+13  7.263320e+13   \n",
       "503 -0.061129   45.110  106.716 -0.163010  8.183662e+13  7.511389e+13   \n",
       "504 -0.039883   42.963   98.952 -0.069941  7.912112e+13  4.533080e+13   \n",
       "505 -0.033380   42.638  104.543 -0.121116  7.962703e+13  3.758647e+13   \n",
       "506 -0.027186   43.701   96.886 -0.111856  7.584397e+13  3.000342e+13   \n",
       "\n",
       "           TOTPOT  MEANSHR     AREA_ACR  R_VALUE   ABSNJZH  \n",
       "0    7.077275e+23   50.329   945.314636    4.805   745.287  \n",
       "1    4.733711e+23   43.479   961.502686    4.303    63.441  \n",
       "2    1.074422e+24   35.873  1934.446167    4.865   615.008  \n",
       "3    1.879337e+23   28.525   970.551636    3.971   367.530  \n",
       "4    5.269515e+23   43.929  1259.099854    4.777  1080.528  \n",
       "..            ...      ...          ...      ...       ...  \n",
       "502  1.584434e+24   41.244  1767.386841    5.134  2670.696  \n",
       "503  1.433866e+24   39.519  1905.817749    5.048  2703.341  \n",
       "504  1.299920e+24   37.017  1836.984009    4.914  1798.802  \n",
       "505  1.289169e+24   36.550  1864.373535    4.874  1520.726  \n",
       "506  1.312024e+24   36.896  1862.405640    4.874  1166.753  \n",
       "\n",
       "[507 rows x 18 columns]"
      ]
     },
     "execution_count": 5,
     "metadata": {},
     "output_type": "execute_result"
    }
   ],
   "source": [
    "data = data.drop([\"Unnamed: 0\",\"HARPNUM\",\"NOAA\",\"Class\",\"Peak Time\"],axis =1)\n",
    "data"
   ]
  },
  {
   "cell_type": "code",
   "execution_count": 6,
   "metadata": {
    "colab": {
     "base_uri": "https://localhost:8080/"
    },
    "executionInfo": {
     "elapsed": 5,
     "status": "ok",
     "timestamp": 1742301777826,
     "user": {
      "displayName": "Nabdeep Patel",
      "userId": "07676539631953903860"
     },
     "user_tz": -330
    },
    "id": "7VBoxpaNRgrI",
    "outputId": "ef68fbc3-73a0-4888-d980-6fce27822ab5"
   },
   "outputs": [
    {
     "data": {
      "text/plain": [
       "(507, 18)"
      ]
     },
     "execution_count": 6,
     "metadata": {},
     "output_type": "execute_result"
    }
   ],
   "source": [
    "data.shape"
   ]
  },
  {
   "cell_type": "markdown",
   "metadata": {
    "id": "lEXR2bTlRgrI"
   },
   "source": [
    "## Normalisation"
   ]
  },
  {
   "cell_type": "code",
   "execution_count": 7,
   "metadata": {
    "executionInfo": {
     "elapsed": 70,
     "status": "ok",
     "timestamp": 1742301777896,
     "user": {
      "displayName": "Nabdeep Patel",
      "userId": "07676539631953903860"
     },
     "user_tz": -330
    },
    "id": "P9lRUXrvRgrJ"
   },
   "outputs": [],
   "source": [
    "def normalize_the_data(flare_data):\n",
    "    flare_data = np.array(flare_data)\n",
    "    n_elements = flare_data.shape[0]\n",
    "    for j in range(flare_data.shape[1]):\n",
    "        standard_deviation_of_this_feature = np.std(flare_data[:, j])\n",
    "        median_of_this_feature = np.median(flare_data[:, j])\n",
    "        for i in range(n_elements):\n",
    "            flare_data[i, j] = (\n",
    "                flare_data[i, j] - median_of_this_feature) / (standard_deviation_of_this_feature)\n",
    "    return flare_data\n",
    "\n",
    "data_n1 = normalize_the_data(data)"
   ]
  },
  {
   "cell_type": "code",
   "execution_count": 9,
   "metadata": {
    "executionInfo": {
     "elapsed": 6,
     "status": "ok",
     "timestamp": 1742301779091,
     "user": {
      "displayName": "Nabdeep Patel",
      "userId": "07676539631953903860"
     },
     "user_tz": -330
    },
    "id": "6tdeD8_CRgrK"
   },
   "outputs": [],
   "source": [
    "xdata = np.concatenate(data_n1, axis=0)\n",
    "ydata = np.concatenate((np.ones(positive.shape[0]), np.zeros(negative.shape[0])), axis=0)"
   ]
  },
  {
   "cell_type": "code",
   "execution_count": 21,
   "metadata": {
    "executionInfo": {
     "elapsed": 1193,
     "status": "ok",
     "timestamp": 1742301779089,
     "user": {
      "displayName": "Nabdeep Patel",
      "userId": "07676539631953903860"
     },
     "user_tz": -330
    },
    "id": "UYUe5yQWRgrJ"
   },
   "outputs": [
    {
     "name": "stdout",
     "output_type": "stream",
     "text": [
      "Fitting 5 folds for each of 25 candidates, totalling 125 fits\n",
      "C:  100 gamma:  1\n"
     ]
    }
   ],
   "source": [
    "from sklearn.model_selection import GridSearchCV\n",
    "from sklearn import svm\n",
    "\n",
    "# Define parameter grid\n",
    "param_grid = {\n",
    "    'C': [0.1, 1, 4.0, 10, 100],\n",
    "    'gamma': [0.01, 0.05, 0.075, 0.1, 1]}\n",
    "\n",
    "svc = svm.SVC(kernel='rbf', class_weight='balanced', cache_size=500,\n",
    "              max_iter=-1, shrinking=True, tol=1e-8, probability=True)\n",
    "\n",
    "grid_search = GridSearchCV(estimator=svc, param_grid=param_grid,\n",
    "                           cv=5, scoring='accuracy', n_jobs=-1, verbose=1)\n",
    "\n",
    "grid_search.fit(xdata, ydata)\n",
    "\n",
    "\n",
    "best_C = grid_search.best_params_['C']\n",
    "best_gamma = grid_search.best_params_['gamma']\n",
    "\n",
    "print(\"C: \",best_C, \"gamma: \",best_gamma)\n",
    "\n",
    "clf = svm.SVC(C=best_C, gamma=best_gamma, kernel='rbf',\n",
    "              class_weight='balanced', cache_size=500,\n",
    "              max_iter=-1, shrinking=True, tol=1e-8, probability=True)"
   ]
  },
  {
   "cell_type": "code",
   "execution_count": 18,
   "metadata": {
    "executionInfo": {
     "elapsed": 7,
     "status": "ok",
     "timestamp": 1742301779094,
     "user": {
      "displayName": "Nabdeep Patel",
      "userId": "07676539631953903860"
     },
     "user_tz": -330
    },
    "id": "ty2U9pmFRgrK"
   },
   "outputs": [],
   "source": [
    "def confusion_table(pred, labels):\n",
    "    \"\"\"\n",
    "    computes the number of TP, TN, FP, FN events given the arrays with predictions and true labels\n",
    "    and returns the true skill score\n",
    "\n",
    "    Args:\n",
    "    pred: np array with predictions (1 for flare, 0 for nonflare)\n",
    "    labels: np array with true labels (1 for flare, 0 for nonflare)\n",
    "\n",
    "    Returns: true negative, false positive, true positive, false negative\n",
    "    \"\"\"\n",
    "    Nobs = len(pred)\n",
    "    TN = 0.\n",
    "    TP = 0.\n",
    "    FP = 0.\n",
    "    FN = 0.\n",
    "    for i in range(Nobs):\n",
    "        if (pred[i] == 0 and labels[i] == 0):\n",
    "            TN += 1\n",
    "        elif (pred[i] == 1 and labels[i] == 0):\n",
    "            FP += 1\n",
    "        elif (pred[i] == 1 and labels[i] == 1):\n",
    "            TP += 1\n",
    "        elif (pred[i] == 0 and labels[i] == 1):\n",
    "            FN += 1\n",
    "        else:\n",
    "            print(\"Error! Observation could not be classified.\")\n",
    "    return TN, FP, TP, FN"
   ]
  },
  {
   "cell_type": "code",
   "execution_count": 19,
   "metadata": {
    "executionInfo": {
     "elapsed": 67081,
     "status": "ok",
     "timestamp": 1742301846176,
     "user": {
      "displayName": "Nabdeep Patel",
      "userId": "07676539631953903860"
     },
     "user_tz": -330
    },
    "id": "NWyMXyF_RgrK"
   },
   "outputs": [],
   "source": [
    "from sklearn.model_selection import StratifiedKFold\n",
    "\n",
    "# lists to hold the TSS and standard deviation of the TSS\n",
    "array_of_avg_TSS = np.ndarray([50])\n",
    "array_of_std_TSS = np.ndarray([50])\n",
    "\n",
    "# xdata are the examples\n",
    "# ydata are the labels\n",
    "xdata = data_n1\n",
    "ydata = np.concatenate((np.ones(positive.shape[0]), np.zeros(negative.shape[0])), axis=0)\n",
    "\n",
    "# compute the TSS for a variety of k ranging from 2 to 52\n",
    "# this is to see how the TSS varies as a function of k, and to test if k=10 really makes sense\n",
    "for k in range(2, 52):\n",
    "    skf = StratifiedKFold(n_splits=k, shuffle=True,random_state=42)\n",
    "    these_TSS_for_this_k = []\n",
    "    for train_index, test_index in skf.split(xdata, ydata):\n",
    "        # xtrain are the examples in the training set\n",
    "        xtrain = xdata[train_index]\n",
    "        # ytrain are the labels in the training set\n",
    "        ytrain = ydata[train_index]\n",
    "        # xtest are the examples in the testing set\n",
    "        xtest = xdata[test_index]\n",
    "        ytest = ydata[test_index]    # ytest are the labels in the testing set\n",
    "        clf.fit(xtrain, ytrain)\n",
    "        TN, FP, TP, FN = confusion_table(clf.predict(xtest), ytest)\n",
    "        if (((TP+FN) == 0.0) or (FP+TN) == 0.0):\n",
    "            these_TSS_for_this_k.append(np.nan)\n",
    "            continue\n",
    "        else:\n",
    "            these_TSS_for_this_k.append(TP/(TP+FN) - FP/(FP+TN))\n",
    "    TSS_k = np.array(these_TSS_for_this_k)\n",
    "    array_of_avg_TSS[k-2] = np.mean(TSS_k)\n",
    "    array_of_std_TSS[k-2] = np.std(TSS_k)"
   ]
  },
  {
   "cell_type": "code",
   "execution_count": 20,
   "metadata": {
    "colab": {
     "base_uri": "https://localhost:8080/",
     "height": 495
    },
    "executionInfo": {
     "elapsed": 440,
     "status": "ok",
     "timestamp": 1742301846633,
     "user": {
      "displayName": "Nabdeep Patel",
      "userId": "07676539631953903860"
     },
     "user_tz": -330
    },
    "id": "MzkK9s8vRgrK",
    "outputId": "7b9df9cc-d4d6-4136-f5e3-1231051e00f3"
   },
   "outputs": [
    {
     "data": {
      "image/png": "[encoded data removed]",
      "text/plain": [
       "<Figure size 1000x500 with 1 Axes>"
      ]
     },
     "metadata": {},
     "output_type": "display_data"
    }
   ],
   "source": [
    "fig, ax = plt.subplots(figsize=(10, 8))      # define the size of the figure\n",
    "orangered = (1.0, 0.27, 0, 1.0)              # create an orange-red color\n",
    "cornblue = (0.39, 0.58, 0.93, 1.0)           # create a cornflower-blue color\n",
    "\n",
    "# define some style elements\n",
    "marker_style_red = dict(linestyle='', markersize=8,\n",
    "                        fillstyle='full', color=orangered, markeredgecolor=orangered)\n",
    "marker_style_blue = dict(linestyle='', markersize=8,\n",
    "                         fillstyle='full', color=cornblue, markeredgecolor=cornblue)\n",
    "text_style = dict(fontsize=16, fontdict={'family': 'monospace'})\n",
    "\n",
    "# ascribe the data to the axes\n",
    "k = np.arange(50)+2\n",
    "for i in range(50):\n",
    "    if (array_of_avg_TSS[i] > array_of_std_TSS[i]):\n",
    "        ax.errorbar(k[i], array_of_avg_TSS[i],yerr=array_of_std_TSS[i], linestyle='', color=orangered)\n",
    "        ax.plot(k[i], array_of_avg_TSS[i], 'o', **marker_style_red)\n",
    "    if (array_of_avg_TSS[i] <= array_of_std_TSS[i]):\n",
    "        ax.errorbar(k[i], array_of_avg_TSS[i],yerr=array_of_std_TSS[i], linestyle='', color=cornblue)\n",
    "        ax.plot(k[i], array_of_avg_TSS[i], 'o', **marker_style_blue)\n",
    "\n",
    "# set plot limits\n",
    "plt.xlim(xmax=52, xmin=0)\n",
    "plt.ylim(ymax=1.1, ymin=0)\n",
    "\n",
    "# label the axes and the plot\n",
    "ax.set_xlabel('k', **text_style)\n",
    "ax.set_ylabel('TSS', labelpad=20, **text_style)\n",
    "plt.title(r'TSS per k using stratified k-fold cross-validation', **text_style)\n",
    "fig = plt.gcf()\n",
    "fig.set_size_inches(10, 5)"
   ]
  },
  {
   "cell_type": "code",
   "execution_count": 13,
   "metadata": {
    "colab": {
     "base_uri": "https://localhost:8080/"
    },
    "executionInfo": {
     "elapsed": 9,
     "status": "ok",
     "timestamp": 1742301846643,
     "user": {
      "displayName": "Nabdeep Patel",
      "userId": "07676539631953903860"
     },
     "user_tz": -330
    },
    "id": "HBbS-TAoRgrL",
    "outputId": "28c6d483-5d03-43c3-a8cb-d45637a67fbe"
   },
   "outputs": [
    {
     "name": "stdout",
     "output_type": "stream",
     "text": [
      "The TSS equals 0.12248058958585274 plus or minus 0.1949180305453634 .\n"
     ]
    }
   ],
   "source": [
    "print(\"The TSS equals\", array_of_avg_TSS[9],\"plus or minus\", array_of_std_TSS[9], \".\")"
   ]
  },
  {
   "cell_type": "code",
   "execution_count": 14,
   "metadata": {
    "colab": {
     "base_uri": "https://localhost:8080/"
    },
    "executionInfo": {
     "elapsed": 8,
     "status": "ok",
     "timestamp": 1742301846650,
     "user": {
      "displayName": "Nabdeep Patel",
      "userId": "07676539631953903860"
     },
     "user_tz": -330
    },
    "id": "A1qEnar5RgrL",
    "outputId": "303fb486-f4c4-4ef7-916f-a0219f49ec09"
   },
   "outputs": [
    {
     "data": {
      "text/plain": [
       "(507, 18)"
      ]
     },
     "execution_count": 14,
     "metadata": {},
     "output_type": "execute_result"
    }
   ],
   "source": [
    "data.shape"
   ]
  },
  {
   "cell_type": "code",
   "execution_count": 15,
   "metadata": {
    "colab": {
     "base_uri": "https://localhost:8080/"
    },
    "executionInfo": {
     "elapsed": 10,
     "status": "ok",
     "timestamp": 1742301846662,
     "user": {
      "displayName": "Nabdeep Patel",
      "userId": "07676539631953903860"
     },
     "user_tz": -330
    },
    "id": "U5xhKDnZRgrL",
    "outputId": "27dc9d15-b150-46f9-957b-b293211bf333"
   },
   "outputs": [
    {
     "data": {
      "text/plain": [
       "(81, 23)"
      ]
     },
     "execution_count": 15,
     "metadata": {},
     "output_type": "execute_result"
    }
   ],
   "source": [
    "positive.shape"
   ]
  },
  {
   "cell_type": "code",
   "execution_count": 16,
   "metadata": {
    "colab": {
     "base_uri": "https://localhost:8080/"
    },
    "executionInfo": {
     "elapsed": 7,
     "status": "ok",
     "timestamp": 1742301846672,
     "user": {
      "displayName": "Nabdeep Patel",
      "userId": "07676539631953903860"
     },
     "user_tz": -330
    },
    "id": "eBv04oHxRgrM",
    "outputId": "10a5e89f-3fbd-4d30-dd52-0b7f73914259"
   },
   "outputs": [
    {
     "data": {
      "text/plain": [
       "(426, 23)"
      ]
     },
     "execution_count": 16,
     "metadata": {},
     "output_type": "execute_result"
    }
   ],
   "source": [
    "negative.shape"
   ]
  },
  {
   "cell_type": "code",
   "execution_count": null,
   "metadata": {
    "executionInfo": {
     "elapsed": 3,
     "status": "ok",
     "timestamp": 1742301846676,
     "user": {
      "displayName": "Nabdeep Patel",
      "userId": "07676539631953903860"
     },
     "user_tz": -330
    },
    "id": "aI8MwO2yRgrM"
   },
   "outputs": [],
   "source": []
  }
 ],
 "metadata": {
  "colab": {
   "provenance": []
  },
  "kernelspec": {
   "display_name": "Python 3",
   "language": "python",
   "name": "python3"
  },
  "language_info": {
   "codemirror_mode": {
    "name": "ipython",
    "version": 3
   },
   "file_extension": ".py",
   "mimetype": "text/x-python",
   "name": "python",
   "nbconvert_exporter": "python",
   "pygments_lexer": "ipython3",
   "version": "3.12.1"
  }
 },
 "nbformat": 4,
 "nbformat_minor": 0
}
