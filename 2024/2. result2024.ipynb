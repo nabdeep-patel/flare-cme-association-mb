{
 "cells": [
  {
   "cell_type": "code",
   "execution_count": 1,
   "metadata": {
    "executionInfo": {
     "elapsed": 870,
     "status": "ok",
     "timestamp": 1744776338593,
     "user": {
      "displayName": "Nabdeep Patel",
      "userId": "07676539631953903860"
     },
     "user_tz": -330
    },
    "id": "-W5Iqr6GkLeB"
   },
   "outputs": [],
   "source": [
    "import pandas as pd\n",
    "import numpy as np\n",
    "import matplotlib.pyplot as plt"
   ]
  },
  {
   "cell_type": "code",
   "execution_count": 2,
   "metadata": {
    "executionInfo": {
     "elapsed": 1080,
     "status": "ok",
     "timestamp": 1744776339677,
     "user": {
      "displayName": "Nabdeep Patel",
      "userId": "07676539631953903860"
     },
     "user_tz": -330
    },
    "id": "XVs-FqZCkLeI"
   },
   "outputs": [],
   "source": [
    "positive = pd.read_csv(\"positive_2024.csv\")\n",
    "negative = pd.read_csv(\"negative_2024.csv\")"
   ]
  },
  {
   "cell_type": "code",
   "execution_count": 3,
   "metadata": {
    "colab": {
     "base_uri": "https://localhost:8080/",
     "height": 461
    },
    "executionInfo": {
     "elapsed": 142,
     "status": "ok",
     "timestamp": 1744776339821,
     "user": {
      "displayName": "Nabdeep Patel",
      "userId": "07676539631953903860"
     },
     "user_tz": -330
    },
    "id": "Sl-pagzIkLeJ",
    "outputId": "72dc4313-3d6a-4bed-8f2e-9eface25c3e8"
   },
   "outputs": [
    {
     "data": {
      "text/html": [
       "<div>\n",
       "<style scoped>\n",
       "    .dataframe tbody tr th:only-of-type {\n",
       "        vertical-align: middle;\n",
       "    }\n",
       "\n",
       "    .dataframe tbody tr th {\n",
       "        vertical-align: top;\n",
       "    }\n",
       "\n",
       "    .dataframe thead th {\n",
       "        text-align: right;\n",
       "    }\n",
       "</style>\n",
       "<table border=\"1\" class=\"dataframe\">\n",
       "  <thead>\n",
       "    <tr style=\"text-align: right;\">\n",
       "      <th></th>\n",
       "      <th>Unnamed: 0</th>\n",
       "      <th>USFLUX</th>\n",
       "      <th>MEANGBT</th>\n",
       "      <th>MEANJZH</th>\n",
       "      <th>MEANPOT</th>\n",
       "      <th>SHRGT45</th>\n",
       "      <th>TOTUSJH</th>\n",
       "      <th>MEANGBH</th>\n",
       "      <th>MEANALP</th>\n",
       "      <th>MEANGAM</th>\n",
       "      <th>...</th>\n",
       "      <th>SAVNCPP</th>\n",
       "      <th>TOTPOT</th>\n",
       "      <th>MEANSHR</th>\n",
       "      <th>AREA_ACR</th>\n",
       "      <th>R_VALUE</th>\n",
       "      <th>ABSNJZH</th>\n",
       "      <th>HARPNUM</th>\n",
       "      <th>NOAA</th>\n",
       "      <th>Class</th>\n",
       "      <th>Peak Time</th>\n",
       "    </tr>\n",
       "  </thead>\n",
       "  <tbody>\n",
       "    <tr>\n",
       "      <th>0</th>\n",
       "      <td>0</td>\n",
       "      <td>2.246101e+22</td>\n",
       "      <td>107.736</td>\n",
       "      <td>0.021724</td>\n",
       "      <td>15533.100</td>\n",
       "      <td>54.882</td>\n",
       "      <td>2975.118</td>\n",
       "      <td>77.983</td>\n",
       "      <td>0.041413</td>\n",
       "      <td>59.541</td>\n",
       "      <td>...</td>\n",
       "      <td>1.226148e+13</td>\n",
       "      <td>7.077275e+23</td>\n",
       "      <td>50.329</td>\n",
       "      <td>945.314636</td>\n",
       "      <td>4.805</td>\n",
       "      <td>745.287</td>\n",
       "      <td>377</td>\n",
       "      <td>11158</td>\n",
       "      <td>X2.2</td>\n",
       "      <td>2011.02.14_01:56_TAI</td>\n",
       "    </tr>\n",
       "    <tr>\n",
       "      <th>1</th>\n",
       "      <td>1</td>\n",
       "      <td>2.235615e+22</td>\n",
       "      <td>93.863</td>\n",
       "      <td>-0.001943</td>\n",
       "      <td>10914.060</td>\n",
       "      <td>44.178</td>\n",
       "      <td>1636.710</td>\n",
       "      <td>56.639</td>\n",
       "      <td>-0.003942</td>\n",
       "      <td>50.680</td>\n",
       "      <td>...</td>\n",
       "      <td>3.884153e+12</td>\n",
       "      <td>4.733711e+23</td>\n",
       "      <td>43.479</td>\n",
       "      <td>961.502686</td>\n",
       "      <td>4.303</td>\n",
       "      <td>63.441</td>\n",
       "      <td>401</td>\n",
       "      <td>11166</td>\n",
       "      <td>M2.0</td>\n",
       "      <td>2011.03.06_14:30_TAI</td>\n",
       "    </tr>\n",
       "    <tr>\n",
       "      <th>2</th>\n",
       "      <td>2</td>\n",
       "      <td>6.039302e+22</td>\n",
       "      <td>91.233</td>\n",
       "      <td>0.007535</td>\n",
       "      <td>9912.353</td>\n",
       "      <td>29.044</td>\n",
       "      <td>4229.148</td>\n",
       "      <td>49.560</td>\n",
       "      <td>0.015028</td>\n",
       "      <td>41.150</td>\n",
       "      <td>...</td>\n",
       "      <td>3.430647e+13</td>\n",
       "      <td>1.074422e+24</td>\n",
       "      <td>35.873</td>\n",
       "      <td>1934.446167</td>\n",
       "      <td>4.865</td>\n",
       "      <td>615.008</td>\n",
       "      <td>393</td>\n",
       "      <td>11164</td>\n",
       "      <td>M3.7</td>\n",
       "      <td>2011.03.06_20:12_TAI</td>\n",
       "    </tr>\n",
       "    <tr>\n",
       "      <th>3</th>\n",
       "      <td>3</td>\n",
       "      <td>2.384940e+22</td>\n",
       "      <td>109.706</td>\n",
       "      <td>0.009620</td>\n",
       "      <td>3703.910</td>\n",
       "      <td>13.500</td>\n",
       "      <td>1505.331</td>\n",
       "      <td>47.602</td>\n",
       "      <td>0.030907</td>\n",
       "      <td>34.321</td>\n",
       "      <td>...</td>\n",
       "      <td>1.969386e+13</td>\n",
       "      <td>1.879337e+23</td>\n",
       "      <td>28.525</td>\n",
       "      <td>970.551636</td>\n",
       "      <td>3.971</td>\n",
       "      <td>367.530</td>\n",
       "      <td>637</td>\n",
       "      <td>11226</td>\n",
       "      <td>M2.5</td>\n",
       "      <td>2011.06.06_06:41_TAI</td>\n",
       "    </tr>\n",
       "    <tr>\n",
       "      <th>4</th>\n",
       "      <td>4</td>\n",
       "      <td>1.989983e+22</td>\n",
       "      <td>109.891</td>\n",
       "      <td>0.032849</td>\n",
       "      <td>12062.610</td>\n",
       "      <td>44.090</td>\n",
       "      <td>2547.054</td>\n",
       "      <td>73.681</td>\n",
       "      <td>0.079865</td>\n",
       "      <td>53.270</td>\n",
       "      <td>...</td>\n",
       "      <td>4.460671e+13</td>\n",
       "      <td>5.269515e+23</td>\n",
       "      <td>43.929</td>\n",
       "      <td>1259.099854</td>\n",
       "      <td>4.777</td>\n",
       "      <td>1080.528</td>\n",
       "      <td>750</td>\n",
       "      <td>11261</td>\n",
       "      <td>M6.0</td>\n",
       "      <td>2011.08.02_13:48_TAI</td>\n",
       "    </tr>\n",
       "    <tr>\n",
       "      <th>...</th>\n",
       "      <td>...</td>\n",
       "      <td>...</td>\n",
       "      <td>...</td>\n",
       "      <td>...</td>\n",
       "      <td>...</td>\n",
       "      <td>...</td>\n",
       "      <td>...</td>\n",
       "      <td>...</td>\n",
       "      <td>...</td>\n",
       "      <td>...</td>\n",
       "      <td>...</td>\n",
       "      <td>...</td>\n",
       "      <td>...</td>\n",
       "      <td>...</td>\n",
       "      <td>...</td>\n",
       "      <td>...</td>\n",
       "      <td>...</td>\n",
       "      <td>...</td>\n",
       "      <td>...</td>\n",
       "      <td>...</td>\n",
       "      <td>...</td>\n",
       "    </tr>\n",
       "    <tr>\n",
       "      <th>1284</th>\n",
       "      <td>961</td>\n",
       "      <td>6.068721e+22</td>\n",
       "      <td>113.223</td>\n",
       "      <td>-0.018846</td>\n",
       "      <td>13089.460</td>\n",
       "      <td>33.902</td>\n",
       "      <td>6105.217</td>\n",
       "      <td>65.565</td>\n",
       "      <td>-0.032996</td>\n",
       "      <td>45.425</td>\n",
       "      <td>...</td>\n",
       "      <td>3.698424e+13</td>\n",
       "      <td>1.329793e+24</td>\n",
       "      <td>39.109</td>\n",
       "      <td>3663.961670</td>\n",
       "      <td>5.162</td>\n",
       "      <td>1441.706</td>\n",
       "      <td>12471</td>\n",
       "      <td>13936</td>\n",
       "      <td>M1.2</td>\n",
       "      <td>2024.12.29_17:30_TAI</td>\n",
       "    </tr>\n",
       "    <tr>\n",
       "      <th>1285</th>\n",
       "      <td>962</td>\n",
       "      <td>6.058633e+22</td>\n",
       "      <td>112.725</td>\n",
       "      <td>-0.019508</td>\n",
       "      <td>13116.960</td>\n",
       "      <td>34.317</td>\n",
       "      <td>6120.661</td>\n",
       "      <td>65.513</td>\n",
       "      <td>-0.034247</td>\n",
       "      <td>45.580</td>\n",
       "      <td>...</td>\n",
       "      <td>3.834556e+13</td>\n",
       "      <td>1.335375e+24</td>\n",
       "      <td>39.362</td>\n",
       "      <td>3655.612793</td>\n",
       "      <td>5.180</td>\n",
       "      <td>1495.448</td>\n",
       "      <td>12471</td>\n",
       "      <td>13936</td>\n",
       "      <td>M1.6</td>\n",
       "      <td>2024.12.29_17:42_TAI</td>\n",
       "    </tr>\n",
       "    <tr>\n",
       "      <th>1286</th>\n",
       "      <td>963</td>\n",
       "      <td>6.123191e+22</td>\n",
       "      <td>113.080</td>\n",
       "      <td>-0.018925</td>\n",
       "      <td>12900.890</td>\n",
       "      <td>33.518</td>\n",
       "      <td>6172.515</td>\n",
       "      <td>64.694</td>\n",
       "      <td>-0.033407</td>\n",
       "      <td>44.952</td>\n",
       "      <td>...</td>\n",
       "      <td>3.587639e+13</td>\n",
       "      <td>1.329003e+24</td>\n",
       "      <td>38.897</td>\n",
       "      <td>3638.466797</td>\n",
       "      <td>5.141</td>\n",
       "      <td>1467.962</td>\n",
       "      <td>12471</td>\n",
       "      <td>13936</td>\n",
       "      <td>M1.6</td>\n",
       "      <td>2024.12.29_18:24_TAI</td>\n",
       "    </tr>\n",
       "    <tr>\n",
       "      <th>1287</th>\n",
       "      <td>964</td>\n",
       "      <td>6.116673e+22</td>\n",
       "      <td>112.701</td>\n",
       "      <td>-0.018793</td>\n",
       "      <td>12799.770</td>\n",
       "      <td>33.124</td>\n",
       "      <td>6156.305</td>\n",
       "      <td>64.452</td>\n",
       "      <td>-0.033052</td>\n",
       "      <td>44.773</td>\n",
       "      <td>...</td>\n",
       "      <td>3.503456e+13</td>\n",
       "      <td>1.313741e+24</td>\n",
       "      <td>38.692</td>\n",
       "      <td>3631.264404</td>\n",
       "      <td>5.179</td>\n",
       "      <td>1452.327</td>\n",
       "      <td>12471</td>\n",
       "      <td>13936</td>\n",
       "      <td>M1.7</td>\n",
       "      <td>2024.12.29_18:33_TAI</td>\n",
       "    </tr>\n",
       "    <tr>\n",
       "      <th>1288</th>\n",
       "      <td>965</td>\n",
       "      <td>2.440745e+22</td>\n",
       "      <td>120.481</td>\n",
       "      <td>-0.035624</td>\n",
       "      <td>11447.500</td>\n",
       "      <td>37.468</td>\n",
       "      <td>2554.132</td>\n",
       "      <td>74.294</td>\n",
       "      <td>-0.067025</td>\n",
       "      <td>48.838</td>\n",
       "      <td>...</td>\n",
       "      <td>4.339812e+13</td>\n",
       "      <td>4.968420e+23</td>\n",
       "      <td>39.940</td>\n",
       "      <td>1888.411377</td>\n",
       "      <td>4.769</td>\n",
       "      <td>1164.191</td>\n",
       "      <td>12492</td>\n",
       "      <td>13939</td>\n",
       "      <td>M1.0</td>\n",
       "      <td>2024.12.29_22:41_TAI</td>\n",
       "    </tr>\n",
       "  </tbody>\n",
       "</table>\n",
       "<p>1289 rows × 23 columns</p>\n",
       "</div>"
      ],
      "text/plain": [
       "      Unnamed: 0        USFLUX  MEANGBT   MEANJZH    MEANPOT  SHRGT45  \\\n",
       "0              0  2.246101e+22  107.736  0.021724  15533.100   54.882   \n",
       "1              1  2.235615e+22   93.863 -0.001943  10914.060   44.178   \n",
       "2              2  6.039302e+22   91.233  0.007535   9912.353   29.044   \n",
       "3              3  2.384940e+22  109.706  0.009620   3703.910   13.500   \n",
       "4              4  1.989983e+22  109.891  0.032849  12062.610   44.090   \n",
       "...          ...           ...      ...       ...        ...      ...   \n",
       "1284         961  6.068721e+22  113.223 -0.018846  13089.460   33.902   \n",
       "1285         962  6.058633e+22  112.725 -0.019508  13116.960   34.317   \n",
       "1286         963  6.123191e+22  113.080 -0.018925  12900.890   33.518   \n",
       "1287         964  6.116673e+22  112.701 -0.018793  12799.770   33.124   \n",
       "1288         965  2.440745e+22  120.481 -0.035624  11447.500   37.468   \n",
       "\n",
       "       TOTUSJH  MEANGBH   MEANALP  MEANGAM  ...       SAVNCPP        TOTPOT  \\\n",
       "0     2975.118   77.983  0.041413   59.541  ...  1.226148e+13  7.077275e+23   \n",
       "1     1636.710   56.639 -0.003942   50.680  ...  3.884153e+12  4.733711e+23   \n",
       "2     4229.148   49.560  0.015028   41.150  ...  3.430647e+13  1.074422e+24   \n",
       "3     1505.331   47.602  0.030907   34.321  ...  1.969386e+13  1.879337e+23   \n",
       "4     2547.054   73.681  0.079865   53.270  ...  4.460671e+13  5.269515e+23   \n",
       "...        ...      ...       ...      ...  ...           ...           ...   \n",
       "1284  6105.217   65.565 -0.032996   45.425  ...  3.698424e+13  1.329793e+24   \n",
       "1285  6120.661   65.513 -0.034247   45.580  ...  3.834556e+13  1.335375e+24   \n",
       "1286  6172.515   64.694 -0.033407   44.952  ...  3.587639e+13  1.329003e+24   \n",
       "1287  6156.305   64.452 -0.033052   44.773  ...  3.503456e+13  1.313741e+24   \n",
       "1288  2554.132   74.294 -0.067025   48.838  ...  4.339812e+13  4.968420e+23   \n",
       "\n",
       "      MEANSHR     AREA_ACR  R_VALUE   ABSNJZH  HARPNUM   NOAA  Class  \\\n",
       "0      50.329   945.314636    4.805   745.287      377  11158   X2.2   \n",
       "1      43.479   961.502686    4.303    63.441      401  11166   M2.0   \n",
       "2      35.873  1934.446167    4.865   615.008      393  11164   M3.7   \n",
       "3      28.525   970.551636    3.971   367.530      637  11226   M2.5   \n",
       "4      43.929  1259.099854    4.777  1080.528      750  11261   M6.0   \n",
       "...       ...          ...      ...       ...      ...    ...    ...   \n",
       "1284   39.109  3663.961670    5.162  1441.706    12471  13936   M1.2   \n",
       "1285   39.362  3655.612793    5.180  1495.448    12471  13936   M1.6   \n",
       "1286   38.897  3638.466797    5.141  1467.962    12471  13936   M1.6   \n",
       "1287   38.692  3631.264404    5.179  1452.327    12471  13936   M1.7   \n",
       "1288   39.940  1888.411377    4.769  1164.191    12492  13939   M1.0   \n",
       "\n",
       "                 Peak Time  \n",
       "0     2011.02.14_01:56_TAI  \n",
       "1     2011.03.06_14:30_TAI  \n",
       "2     2011.03.06_20:12_TAI  \n",
       "3     2011.06.06_06:41_TAI  \n",
       "4     2011.08.02_13:48_TAI  \n",
       "...                    ...  \n",
       "1284  2024.12.29_17:30_TAI  \n",
       "1285  2024.12.29_17:42_TAI  \n",
       "1286  2024.12.29_18:24_TAI  \n",
       "1287  2024.12.29_18:33_TAI  \n",
       "1288  2024.12.29_22:41_TAI  \n",
       "\n",
       "[1289 rows x 23 columns]"
      ]
     },
     "execution_count": 3,
     "metadata": {},
     "output_type": "execute_result"
    }
   ],
   "source": [
    "data = pd.concat([positive,negative],axis =0,ignore_index=True)\n",
    "data"
   ]
  },
  {
   "cell_type": "code",
   "execution_count": 4,
   "metadata": {
    "colab": {
     "base_uri": "https://localhost:8080/",
     "height": 443
    },
    "executionInfo": {
     "elapsed": 89,
     "status": "ok",
     "timestamp": 1744776339920,
     "user": {
      "displayName": "Nabdeep Patel",
      "userId": "07676539631953903860"
     },
     "user_tz": -330
    },
    "id": "F7Iax0qhkLeN",
    "outputId": "747d9f99-f789-4c11-bbb0-63ba708b2df0"
   },
   "outputs": [
    {
     "data": {
      "text/html": [
       "<div>\n",
       "<style scoped>\n",
       "    .dataframe tbody tr th:only-of-type {\n",
       "        vertical-align: middle;\n",
       "    }\n",
       "\n",
       "    .dataframe tbody tr th {\n",
       "        vertical-align: top;\n",
       "    }\n",
       "\n",
       "    .dataframe thead th {\n",
       "        text-align: right;\n",
       "    }\n",
       "</style>\n",
       "<table border=\"1\" class=\"dataframe\">\n",
       "  <thead>\n",
       "    <tr style=\"text-align: right;\">\n",
       "      <th></th>\n",
       "      <th>USFLUX</th>\n",
       "      <th>MEANGBT</th>\n",
       "      <th>MEANJZH</th>\n",
       "      <th>MEANPOT</th>\n",
       "      <th>SHRGT45</th>\n",
       "      <th>TOTUSJH</th>\n",
       "      <th>MEANGBH</th>\n",
       "      <th>MEANALP</th>\n",
       "      <th>MEANGAM</th>\n",
       "      <th>MEANGBZ</th>\n",
       "      <th>MEANJZD</th>\n",
       "      <th>TOTUSJZ</th>\n",
       "      <th>SAVNCPP</th>\n",
       "      <th>TOTPOT</th>\n",
       "      <th>MEANSHR</th>\n",
       "      <th>AREA_ACR</th>\n",
       "      <th>R_VALUE</th>\n",
       "      <th>ABSNJZH</th>\n",
       "    </tr>\n",
       "  </thead>\n",
       "  <tbody>\n",
       "    <tr>\n",
       "      <th>0</th>\n",
       "      <td>2.246101e+22</td>\n",
       "      <td>107.736</td>\n",
       "      <td>0.021724</td>\n",
       "      <td>15533.100</td>\n",
       "      <td>54.882</td>\n",
       "      <td>2975.118</td>\n",
       "      <td>77.983</td>\n",
       "      <td>0.041413</td>\n",
       "      <td>59.541</td>\n",
       "      <td>117.582</td>\n",
       "      <td>0.104880</td>\n",
       "      <td>5.032922e+13</td>\n",
       "      <td>1.226148e+13</td>\n",
       "      <td>7.077275e+23</td>\n",
       "      <td>50.329</td>\n",
       "      <td>945.314636</td>\n",
       "      <td>4.805</td>\n",
       "      <td>745.287</td>\n",
       "    </tr>\n",
       "    <tr>\n",
       "      <th>1</th>\n",
       "      <td>2.235615e+22</td>\n",
       "      <td>93.863</td>\n",
       "      <td>-0.001943</td>\n",
       "      <td>10914.060</td>\n",
       "      <td>44.178</td>\n",
       "      <td>1636.710</td>\n",
       "      <td>56.639</td>\n",
       "      <td>-0.003942</td>\n",
       "      <td>50.680</td>\n",
       "      <td>99.163</td>\n",
       "      <td>0.130367</td>\n",
       "      <td>3.344854e+13</td>\n",
       "      <td>3.884153e+12</td>\n",
       "      <td>4.733711e+23</td>\n",
       "      <td>43.479</td>\n",
       "      <td>961.502686</td>\n",
       "      <td>4.303</td>\n",
       "      <td>63.441</td>\n",
       "    </tr>\n",
       "    <tr>\n",
       "      <th>2</th>\n",
       "      <td>6.039302e+22</td>\n",
       "      <td>91.233</td>\n",
       "      <td>0.007535</td>\n",
       "      <td>9912.353</td>\n",
       "      <td>29.044</td>\n",
       "      <td>4229.148</td>\n",
       "      <td>49.560</td>\n",
       "      <td>0.015028</td>\n",
       "      <td>41.150</td>\n",
       "      <td>100.010</td>\n",
       "      <td>-0.131131</td>\n",
       "      <td>7.631205e+13</td>\n",
       "      <td>3.430647e+13</td>\n",
       "      <td>1.074422e+24</td>\n",
       "      <td>35.873</td>\n",
       "      <td>1934.446167</td>\n",
       "      <td>4.865</td>\n",
       "      <td>615.008</td>\n",
       "    </tr>\n",
       "    <tr>\n",
       "      <th>3</th>\n",
       "      <td>2.384940e+22</td>\n",
       "      <td>109.706</td>\n",
       "      <td>0.009620</td>\n",
       "      <td>3703.910</td>\n",
       "      <td>13.500</td>\n",
       "      <td>1505.331</td>\n",
       "      <td>47.602</td>\n",
       "      <td>0.030907</td>\n",
       "      <td>34.321</td>\n",
       "      <td>110.939</td>\n",
       "      <td>0.004581</td>\n",
       "      <td>3.136324e+13</td>\n",
       "      <td>1.969386e+13</td>\n",
       "      <td>1.879337e+23</td>\n",
       "      <td>28.525</td>\n",
       "      <td>970.551636</td>\n",
       "      <td>3.971</td>\n",
       "      <td>367.530</td>\n",
       "    </tr>\n",
       "    <tr>\n",
       "      <th>4</th>\n",
       "      <td>1.989983e+22</td>\n",
       "      <td>109.891</td>\n",
       "      <td>0.032849</td>\n",
       "      <td>12062.610</td>\n",
       "      <td>44.090</td>\n",
       "      <td>2547.054</td>\n",
       "      <td>73.681</td>\n",
       "      <td>0.079865</td>\n",
       "      <td>53.270</td>\n",
       "      <td>115.866</td>\n",
       "      <td>0.322013</td>\n",
       "      <td>4.301247e+13</td>\n",
       "      <td>4.460671e+13</td>\n",
       "      <td>5.269515e+23</td>\n",
       "      <td>43.929</td>\n",
       "      <td>1259.099854</td>\n",
       "      <td>4.777</td>\n",
       "      <td>1080.528</td>\n",
       "    </tr>\n",
       "    <tr>\n",
       "      <th>...</th>\n",
       "      <td>...</td>\n",
       "      <td>...</td>\n",
       "      <td>...</td>\n",
       "      <td>...</td>\n",
       "      <td>...</td>\n",
       "      <td>...</td>\n",
       "      <td>...</td>\n",
       "      <td>...</td>\n",
       "      <td>...</td>\n",
       "      <td>...</td>\n",
       "      <td>...</td>\n",
       "      <td>...</td>\n",
       "      <td>...</td>\n",
       "      <td>...</td>\n",
       "      <td>...</td>\n",
       "      <td>...</td>\n",
       "      <td>...</td>\n",
       "      <td>...</td>\n",
       "    </tr>\n",
       "    <tr>\n",
       "      <th>1284</th>\n",
       "      <td>6.068721e+22</td>\n",
       "      <td>113.223</td>\n",
       "      <td>-0.018846</td>\n",
       "      <td>13089.460</td>\n",
       "      <td>33.902</td>\n",
       "      <td>6105.217</td>\n",
       "      <td>65.565</td>\n",
       "      <td>-0.032996</td>\n",
       "      <td>45.425</td>\n",
       "      <td>126.593</td>\n",
       "      <td>-0.000505</td>\n",
       "      <td>9.279895e+13</td>\n",
       "      <td>3.698424e+13</td>\n",
       "      <td>1.329793e+24</td>\n",
       "      <td>39.109</td>\n",
       "      <td>3663.961670</td>\n",
       "      <td>5.162</td>\n",
       "      <td>1441.706</td>\n",
       "    </tr>\n",
       "    <tr>\n",
       "      <th>1285</th>\n",
       "      <td>6.058633e+22</td>\n",
       "      <td>112.725</td>\n",
       "      <td>-0.019508</td>\n",
       "      <td>13116.960</td>\n",
       "      <td>34.317</td>\n",
       "      <td>6120.661</td>\n",
       "      <td>65.513</td>\n",
       "      <td>-0.034247</td>\n",
       "      <td>45.580</td>\n",
       "      <td>126.133</td>\n",
       "      <td>0.011053</td>\n",
       "      <td>9.341332e+13</td>\n",
       "      <td>3.834556e+13</td>\n",
       "      <td>1.335375e+24</td>\n",
       "      <td>39.362</td>\n",
       "      <td>3655.612793</td>\n",
       "      <td>5.180</td>\n",
       "      <td>1495.448</td>\n",
       "    </tr>\n",
       "    <tr>\n",
       "      <th>1286</th>\n",
       "      <td>6.123191e+22</td>\n",
       "      <td>113.080</td>\n",
       "      <td>-0.018925</td>\n",
       "      <td>12900.890</td>\n",
       "      <td>33.518</td>\n",
       "      <td>6172.515</td>\n",
       "      <td>64.694</td>\n",
       "      <td>-0.033407</td>\n",
       "      <td>44.952</td>\n",
       "      <td>126.485</td>\n",
       "      <td>-0.010487</td>\n",
       "      <td>9.383820e+13</td>\n",
       "      <td>3.587639e+13</td>\n",
       "      <td>1.329003e+24</td>\n",
       "      <td>38.897</td>\n",
       "      <td>3638.466797</td>\n",
       "      <td>5.141</td>\n",
       "      <td>1467.962</td>\n",
       "    </tr>\n",
       "    <tr>\n",
       "      <th>1287</th>\n",
       "      <td>6.116673e+22</td>\n",
       "      <td>112.701</td>\n",
       "      <td>-0.018793</td>\n",
       "      <td>12799.770</td>\n",
       "      <td>33.124</td>\n",
       "      <td>6156.305</td>\n",
       "      <td>64.452</td>\n",
       "      <td>-0.033052</td>\n",
       "      <td>44.773</td>\n",
       "      <td>126.135</td>\n",
       "      <td>0.060878</td>\n",
       "      <td>9.340384e+13</td>\n",
       "      <td>3.503456e+13</td>\n",
       "      <td>1.313741e+24</td>\n",
       "      <td>38.692</td>\n",
       "      <td>3631.264404</td>\n",
       "      <td>5.179</td>\n",
       "      <td>1452.327</td>\n",
       "    </tr>\n",
       "    <tr>\n",
       "      <th>1288</th>\n",
       "      <td>2.440745e+22</td>\n",
       "      <td>120.481</td>\n",
       "      <td>-0.035624</td>\n",
       "      <td>11447.500</td>\n",
       "      <td>37.468</td>\n",
       "      <td>2554.132</td>\n",
       "      <td>74.294</td>\n",
       "      <td>-0.067025</td>\n",
       "      <td>48.838</td>\n",
       "      <td>127.883</td>\n",
       "      <td>0.458882</td>\n",
       "      <td>4.351874e+13</td>\n",
       "      <td>4.339812e+13</td>\n",
       "      <td>4.968420e+23</td>\n",
       "      <td>39.940</td>\n",
       "      <td>1888.411377</td>\n",
       "      <td>4.769</td>\n",
       "      <td>1164.191</td>\n",
       "    </tr>\n",
       "  </tbody>\n",
       "</table>\n",
       "<p>1289 rows × 18 columns</p>\n",
       "</div>"
      ],
      "text/plain": [
       "            USFLUX  MEANGBT   MEANJZH    MEANPOT  SHRGT45   TOTUSJH  MEANGBH  \\\n",
       "0     2.246101e+22  107.736  0.021724  15533.100   54.882  2975.118   77.983   \n",
       "1     2.235615e+22   93.863 -0.001943  10914.060   44.178  1636.710   56.639   \n",
       "2     6.039302e+22   91.233  0.007535   9912.353   29.044  4229.148   49.560   \n",
       "3     2.384940e+22  109.706  0.009620   3703.910   13.500  1505.331   47.602   \n",
       "4     1.989983e+22  109.891  0.032849  12062.610   44.090  2547.054   73.681   \n",
       "...            ...      ...       ...        ...      ...       ...      ...   \n",
       "1284  6.068721e+22  113.223 -0.018846  13089.460   33.902  6105.217   65.565   \n",
       "1285  6.058633e+22  112.725 -0.019508  13116.960   34.317  6120.661   65.513   \n",
       "1286  6.123191e+22  113.080 -0.018925  12900.890   33.518  6172.515   64.694   \n",
       "1287  6.116673e+22  112.701 -0.018793  12799.770   33.124  6156.305   64.452   \n",
       "1288  2.440745e+22  120.481 -0.035624  11447.500   37.468  2554.132   74.294   \n",
       "\n",
       "       MEANALP  MEANGAM  MEANGBZ   MEANJZD       TOTUSJZ       SAVNCPP  \\\n",
       "0     0.041413   59.541  117.582  0.104880  5.032922e+13  1.226148e+13   \n",
       "1    -0.003942   50.680   99.163  0.130367  3.344854e+13  3.884153e+12   \n",
       "2     0.015028   41.150  100.010 -0.131131  7.631205e+13  3.430647e+13   \n",
       "3     0.030907   34.321  110.939  0.004581  3.136324e+13  1.969386e+13   \n",
       "4     0.079865   53.270  115.866  0.322013  4.301247e+13  4.460671e+13   \n",
       "...        ...      ...      ...       ...           ...           ...   \n",
       "1284 -0.032996   45.425  126.593 -0.000505  9.279895e+13  3.698424e+13   \n",
       "1285 -0.034247   45.580  126.133  0.011053  9.341332e+13  3.834556e+13   \n",
       "1286 -0.033407   44.952  126.485 -0.010487  9.383820e+13  3.587639e+13   \n",
       "1287 -0.033052   44.773  126.135  0.060878  9.340384e+13  3.503456e+13   \n",
       "1288 -0.067025   48.838  127.883  0.458882  4.351874e+13  4.339812e+13   \n",
       "\n",
       "            TOTPOT  MEANSHR     AREA_ACR  R_VALUE   ABSNJZH  \n",
       "0     7.077275e+23   50.329   945.314636    4.805   745.287  \n",
       "1     4.733711e+23   43.479   961.502686    4.303    63.441  \n",
       "2     1.074422e+24   35.873  1934.446167    4.865   615.008  \n",
       "3     1.879337e+23   28.525   970.551636    3.971   367.530  \n",
       "4     5.269515e+23   43.929  1259.099854    4.777  1080.528  \n",
       "...            ...      ...          ...      ...       ...  \n",
       "1284  1.329793e+24   39.109  3663.961670    5.162  1441.706  \n",
       "1285  1.335375e+24   39.362  3655.612793    5.180  1495.448  \n",
       "1286  1.329003e+24   38.897  3638.466797    5.141  1467.962  \n",
       "1287  1.313741e+24   38.692  3631.264404    5.179  1452.327  \n",
       "1288  4.968420e+23   39.940  1888.411377    4.769  1164.191  \n",
       "\n",
       "[1289 rows x 18 columns]"
      ]
     },
     "execution_count": 4,
     "metadata": {},
     "output_type": "execute_result"
    }
   ],
   "source": [
    "data = data.drop([\"Unnamed: 0\",\"HARPNUM\",\"NOAA\",\"Class\",\"Peak Time\"],axis =1)\n",
    "data"
   ]
  },
  {
   "cell_type": "code",
   "execution_count": 5,
   "metadata": {
    "colab": {
     "base_uri": "https://localhost:8080/"
    },
    "executionInfo": {
     "elapsed": 38,
     "status": "ok",
     "timestamp": 1744776339967,
     "user": {
      "displayName": "Nabdeep Patel",
      "userId": "07676539631953903860"
     },
     "user_tz": -330
    },
    "id": "wx1t2hBzkLeO",
    "outputId": "26e504df-7ef2-4e8b-f43b-0debff9008a2"
   },
   "outputs": [
    {
     "data": {
      "text/plain": [
       "(1289, 18)"
      ]
     },
     "execution_count": 5,
     "metadata": {},
     "output_type": "execute_result"
    }
   ],
   "source": [
    "data.shape"
   ]
  },
  {
   "cell_type": "markdown",
   "metadata": {
    "id": "24GJaStLkLeP"
   },
   "source": [
    "## Normalisation"
   ]
  },
  {
   "cell_type": "code",
   "execution_count": 6,
   "metadata": {
    "executionInfo": {
     "elapsed": 7,
     "status": "ok",
     "timestamp": 1744776339976,
     "user": {
      "displayName": "Nabdeep Patel",
      "userId": "07676539631953903860"
     },
     "user_tz": -330
    },
    "id": "parm_2UukLeS"
   },
   "outputs": [],
   "source": [
    "def normalize_the_data(flare_data):\n",
    "    flare_data = np.array(flare_data)\n",
    "    n_elements = flare_data.shape[0]\n",
    "    for j in range(flare_data.shape[1]):\n",
    "        standard_deviation_of_this_feature = np.std(flare_data[:, j])\n",
    "        median_of_this_feature = np.median(flare_data[:, j])\n",
    "        for i in range(n_elements):\n",
    "            flare_data[i, j] = (\n",
    "                flare_data[i, j] - median_of_this_feature) / (standard_deviation_of_this_feature)\n",
    "    return flare_data\n",
    "\n",
    "data_n1 = normalize_the_data(data)"
   ]
  },
  {
   "cell_type": "code",
   "execution_count": 7,
   "metadata": {
    "executionInfo": {
     "elapsed": 1303,
     "status": "ok",
     "timestamp": 1744776341277,
     "user": {
      "displayName": "Nabdeep Patel",
      "userId": "07676539631953903860"
     },
     "user_tz": -330
    },
    "id": "-Yyh3z23kLeT"
   },
   "outputs": [],
   "source": [
    "from sklearn import svm\n",
    "number_of_examples = data.shape[0]\n",
    "C = 4.0\n",
    "gamma = 0.075\n",
    "class_weight = \"balanced\"\n",
    "clf = svm.SVC(C=C, gamma=gamma, kernel='rbf', class_weight=class_weight,cache_size=500, max_iter=-1, shrinking=True, tol=1e-8, probability=True)"
   ]
  },
  {
   "cell_type": "code",
   "execution_count": 8,
   "metadata": {
    "executionInfo": {
     "elapsed": 17,
     "status": "ok",
     "timestamp": 1744776341297,
     "user": {
      "displayName": "Nabdeep Patel",
      "userId": "07676539631953903860"
     },
     "user_tz": -330
    },
    "id": "6J_39O4AkLeU"
   },
   "outputs": [],
   "source": [
    "xdata = np.concatenate(data_n1, axis=0)\n",
    "ydata = np.concatenate((np.ones(positive.shape[0]), np.zeros(negative.shape[0])), axis=0)"
   ]
  },
  {
   "cell_type": "code",
   "execution_count": 9,
   "metadata": {
    "executionInfo": {
     "elapsed": 21,
     "status": "ok",
     "timestamp": 1744776341320,
     "user": {
      "displayName": "Nabdeep Patel",
      "userId": "07676539631953903860"
     },
     "user_tz": -330
    },
    "id": "ic2-AtowkLeV"
   },
   "outputs": [],
   "source": [
    "def confusion_table(pred, labels):\n",
    "    \"\"\"\n",
    "    computes the number of TP, TN, FP, FN events given the arrays with predictions and true labels\n",
    "    and returns the true skill score\n",
    "\n",
    "    Args:\n",
    "    pred: np array with predictions (1 for flare, 0 for nonflare)\n",
    "    labels: np array with true labels (1 for flare, 0 for nonflare)\n",
    "\n",
    "    Returns: true negative, false positive, true positive, false negative\n",
    "    \"\"\"\n",
    "    Nobs = len(pred)\n",
    "    TN = 0.\n",
    "    TP = 0.\n",
    "    FP = 0.\n",
    "    FN = 0.\n",
    "    for i in range(Nobs):\n",
    "        if (pred[i] == 0 and labels[i] == 0):\n",
    "            TN += 1\n",
    "        elif (pred[i] == 1 and labels[i] == 0):\n",
    "            FP += 1\n",
    "        elif (pred[i] == 1 and labels[i] == 1):\n",
    "            TP += 1\n",
    "        elif (pred[i] == 0 and labels[i] == 1):\n",
    "            FN += 1\n",
    "        else:\n",
    "            print(\"Error! Observation could not be classified.\")\n",
    "    return TN, FP, TP, FN"
   ]
  },
  {
   "cell_type": "code",
   "execution_count": 10,
   "metadata": {
    "executionInfo": {
     "elapsed": 456774,
     "status": "ok",
     "timestamp": 1744776798093,
     "user": {
      "displayName": "Nabdeep Patel",
      "userId": "07676539631953903860"
     },
     "user_tz": -330
    },
    "id": "nybebfEXkLeW"
   },
   "outputs": [],
   "source": [
    "from sklearn.model_selection import StratifiedKFold\n",
    "\n",
    "# lists to hold the TSS and standard deviation of the TSS\n",
    "array_of_avg_TSS = np.ndarray([50])\n",
    "array_of_std_TSS = np.ndarray([50])\n",
    "\n",
    "# xdata are the examples\n",
    "# ydata are the labels\n",
    "xdata = data_n1\n",
    "ydata = np.concatenate((np.ones(positive.shape[0]), np.zeros(negative.shape[0])), axis=0)\n",
    "\n",
    "# compute the TSS for a variety of k ranging from 2 to 52\n",
    "# this is to see how the TSS varies as a function of k, and to test if k=10 really makes sense\n",
    "for k in range(2, 52):\n",
    "    skf = StratifiedKFold(n_splits=k, shuffle=True,random_state=42)\n",
    "    these_TSS_for_this_k = []\n",
    "    for train_index, test_index in skf.split(xdata, ydata):\n",
    "        # xtrain are the examples in the training set\n",
    "        xtrain = xdata[train_index]\n",
    "        # ytrain are the labels in the training set\n",
    "        ytrain = ydata[train_index]\n",
    "        # xtest are the examples in the testing set\n",
    "        xtest = xdata[test_index]\n",
    "        ytest = ydata[test_index]    # ytest are the labels in the testing set\n",
    "        clf.fit(xtrain, ytrain)\n",
    "        TN, FP, TP, FN = confusion_table(clf.predict(xtest), ytest)\n",
    "        if (((TP+FN) == 0.0) or (FP+TN) == 0.0):\n",
    "            these_TSS_for_this_k.append(np.nan)\n",
    "            continue\n",
    "        else:\n",
    "            these_TSS_for_this_k.append(TP/(TP+FN) - FP/(FP+TN))\n",
    "    TSS_k = np.array(these_TSS_for_this_k)\n",
    "    array_of_avg_TSS[k-2] = np.mean(TSS_k)\n",
    "    array_of_std_TSS[k-2] = np.std(TSS_k)"
   ]
  },
  {
   "cell_type": "code",
   "execution_count": 11,
   "metadata": {
    "colab": {
     "base_uri": "https://localhost:8080/",
     "height": 495
    },
    "executionInfo": {
     "elapsed": 582,
     "status": "ok",
     "timestamp": 1744776798672,
     "user": {
      "displayName": "Nabdeep Patel",
      "userId": "07676539631953903860"
     },
     "user_tz": -330
    },
    "id": "qlVD0phAkLeX",
    "outputId": "85d5a6a2-ca18-469c-95b4-e8cf7414d36b"
   },
   "outputs": [
    {
     "data": {
      "image/png": "[encoded data removed]",
      "text/plain": [
       "<Figure size 1000x500 with 1 Axes>"
      ]
     },
     "metadata": {},
     "output_type": "display_data"
    }
   ],
   "source": [
    "fig, ax = plt.subplots(figsize=(10, 8))      # define the size of the figure\n",
    "orangered = (1.0, 0.27, 0, 1.0)              # create an orange-red color\n",
    "cornblue = (0.39, 0.58, 0.93, 1.0)           # create a cornflower-blue color\n",
    "\n",
    "# define some style elements\n",
    "marker_style_red = dict(linestyle='', markersize=8,\n",
    "                        fillstyle='full', color=orangered, markeredgecolor=orangered)\n",
    "marker_style_blue = dict(linestyle='', markersize=8,\n",
    "                         fillstyle='full', color=cornblue, markeredgecolor=cornblue)\n",
    "text_style = dict(fontsize=16, fontdict={'family': 'monospace'})\n",
    "\n",
    "# ascribe the data to the axes\n",
    "k = np.arange(50)+2\n",
    "for i in range(50):\n",
    "    if (array_of_avg_TSS[i] > array_of_std_TSS[i]):\n",
    "        ax.errorbar(k[i], array_of_avg_TSS[i],yerr=array_of_std_TSS[i], linestyle='', color=orangered)\n",
    "        ax.plot(k[i], array_of_avg_TSS[i], 'o', **marker_style_red)\n",
    "    if (array_of_avg_TSS[i] <= array_of_std_TSS[i]):\n",
    "        ax.errorbar(k[i], array_of_avg_TSS[i],yerr=array_of_std_TSS[i], linestyle='', color=cornblue)\n",
    "        ax.plot(k[i], array_of_avg_TSS[i], 'o', **marker_style_blue)\n",
    "\n",
    "# set plot limits\n",
    "plt.xlim(xmax=52, xmin=0)\n",
    "plt.ylim(ymax=1.1, ymin=0)\n",
    "\n",
    "# label the axes and the plot\n",
    "ax.set_xlabel('k', **text_style)\n",
    "ax.set_ylabel('TSS', labelpad=20, **text_style)\n",
    "plt.title(r'TSS per k using stratified k-fold cross-validation', **text_style)\n",
    "fig = plt.gcf()\n",
    "fig.set_size_inches(10, 5)"
   ]
  },
  {
   "cell_type": "code",
   "execution_count": 12,
   "metadata": {
    "colab": {
     "base_uri": "https://localhost:8080/"
    },
    "executionInfo": {
     "elapsed": 9,
     "status": "ok",
     "timestamp": 1744776798679,
     "user": {
      "displayName": "Nabdeep Patel",
      "userId": "07676539631953903860"
     },
     "user_tz": -330
    },
    "id": "jrlDEf1LkLeY",
    "outputId": "071caed5-0ae9-46d7-ae08-952e07efa008"
   },
   "outputs": [
    {
     "name": "stdout",
     "output_type": "stream",
     "text": [
      "The TSS equals 0.26650755200911935 plus or minus 0.06499111222268145 .\n"
     ]
    }
   ],
   "source": [
    "print(\"The TSS equals\", array_of_avg_TSS[9],\"plus or minus\", array_of_std_TSS[9], \".\")"
   ]
  },
  {
   "cell_type": "code",
   "execution_count": 13,
   "metadata": {
    "colab": {
     "base_uri": "https://localhost:8080/"
    },
    "executionInfo": {
     "elapsed": 6,
     "status": "ok",
     "timestamp": 1744776798686,
     "user": {
      "displayName": "Nabdeep Patel",
      "userId": "07676539631953903860"
     },
     "user_tz": -330
    },
    "id": "1bIA106RkLeY",
    "outputId": "d73d7e9c-7b79-497f-bd89-8e866a56fd41"
   },
   "outputs": [
    {
     "data": {
      "text/plain": [
       "(1289, 18)"
      ]
     },
     "execution_count": 13,
     "metadata": {},
     "output_type": "execute_result"
    }
   ],
   "source": [
    "data.shape"
   ]
  },
  {
   "cell_type": "code",
   "execution_count": 14,
   "metadata": {
    "colab": {
     "base_uri": "https://localhost:8080/"
    },
    "executionInfo": {
     "elapsed": 46,
     "status": "ok",
     "timestamp": 1744776798733,
     "user": {
      "displayName": "Nabdeep Patel",
      "userId": "07676539631953903860"
     },
     "user_tz": -330
    },
    "id": "GF2ev2fikLeZ",
    "outputId": "6c16ec75-8d42-412b-c43c-41f1a9b8d635"
   },
   "outputs": [
    {
     "data": {
      "text/plain": [
       "(323, 23)"
      ]
     },
     "execution_count": 14,
     "metadata": {},
     "output_type": "execute_result"
    }
   ],
   "source": [
    "positive.shape"
   ]
  },
  {
   "cell_type": "code",
   "execution_count": 15,
   "metadata": {
    "colab": {
     "base_uri": "https://localhost:8080/"
    },
    "executionInfo": {
     "elapsed": 6,
     "status": "ok",
     "timestamp": 1744776798734,
     "user": {
      "displayName": "Nabdeep Patel",
      "userId": "07676539631953903860"
     },
     "user_tz": -330
    },
    "id": "6_1aYVMvkLeZ",
    "outputId": "f93a6d0e-1601-47b8-aa74-91b10b1c661d"
   },
   "outputs": [
    {
     "data": {
      "text/plain": [
       "(966, 23)"
      ]
     },
     "execution_count": 15,
     "metadata": {},
     "output_type": "execute_result"
    }
   ],
   "source": [
    "negative.shape"
   ]
  }
 ],
 "metadata": {
  "colab": {
   "provenance": []
  },
  "kernelspec": {
   "display_name": "Python 3",
   "language": "python",
   "name": "python3"
  },
  "language_info": {
   "codemirror_mode": {
    "name": "ipython",
    "version": 3
   },
   "file_extension": ".py",
   "mimetype": "text/x-python",
   "name": "python",
   "nbconvert_exporter": "python",
   "pygments_lexer": "ipython3",
   "version": "3.12.1"
  }
 },
 "nbformat": 4,
 "nbformat_minor": 0
}
