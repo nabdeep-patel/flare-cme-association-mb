{
 "cells": [
  {
   "cell_type": "code",
   "execution_count": 1,
   "metadata": {
    "executionInfo": {
     "elapsed": 729,
     "status": "ok",
     "timestamp": 1744775647669,
     "user": {
      "displayName": "Nabdeep Patel",
      "userId": "07676539631953903860"
     },
     "user_tz": -330
    },
    "id": "-W5Iqr6GkLeB"
   },
   "outputs": [],
   "source": [
    "import pandas as pd\n",
    "import numpy as np\n",
    "import matplotlib.pyplot as plt"
   ]
  },
  {
   "cell_type": "code",
   "execution_count": 2,
   "metadata": {
    "executionInfo": {
     "elapsed": 470,
     "status": "ok",
     "timestamp": 1744775648140,
     "user": {
      "displayName": "Nabdeep Patel",
      "userId": "07676539631953903860"
     },
     "user_tz": -330
    },
    "id": "XVs-FqZCkLeI"
   },
   "outputs": [],
   "source": [
    "positive = pd.read_csv(\"positive_2024.csv\")\n",
    "positive = positive.drop([\"Unnamed: 0\",\"HARPNUM\",\"NOAA\",\"Class\",\"Peak Time\"],axis =1)\n",
    "negative = pd.read_csv(\"negative_2024.csv\")\n",
    "negative = negative.drop([\"Unnamed: 0\",\"HARPNUM\",\"NOAA\",\"Class\",\"Peak Time\"],axis =1)"
   ]
  },
  {
   "cell_type": "markdown",
   "metadata": {
    "id": "24GJaStLkLeP"
   },
   "source": [
    "## Normalisation"
   ]
  },
  {
   "cell_type": "code",
   "execution_count": 3,
   "metadata": {
    "executionInfo": {
     "elapsed": 22,
     "status": "ok",
     "timestamp": 1744775648171,
     "user": {
      "displayName": "Nabdeep Patel",
      "userId": "07676539631953903860"
     },
     "user_tz": -330
    },
    "id": "parm_2UukLeS"
   },
   "outputs": [],
   "source": [
    "def normalize_the_data(flare_data):\n",
    "    flare_data = np.array(flare_data)\n",
    "    n_elements = flare_data.shape[0]\n",
    "    for j in range(flare_data.shape[1]):\n",
    "        standard_deviation_of_this_feature = np.std(flare_data[:, j])\n",
    "        median_of_this_feature = np.median(flare_data[:, j])\n",
    "        for i in range(n_elements):\n",
    "            flare_data[i, j] = (\n",
    "                flare_data[i, j] - median_of_this_feature) / (standard_deviation_of_this_feature)\n",
    "    return flare_data\n",
    "\n",
    "cme_n1 = normalize_the_data(positive)\n",
    "cme_n2 = normalize_the_data(negative)"
   ]
  },
  {
   "cell_type": "code",
   "execution_count": 4,
   "metadata": {
    "executionInfo": {
     "elapsed": 5,
     "status": "ok",
     "timestamp": 1744775648177,
     "user": {
      "displayName": "Nabdeep Patel",
      "userId": "07676539631953903860"
     },
     "user_tz": -330
    },
    "id": "d7icpkE8upVr"
   },
   "outputs": [],
   "source": [
    "data = np.vstack([cme_n1,cme_n2])"
   ]
  },
  {
   "cell_type": "code",
   "execution_count": 5,
   "metadata": {
    "executionInfo": {
     "elapsed": 1688,
     "status": "ok",
     "timestamp": 1744775664212,
     "user": {
      "displayName": "Nabdeep Patel",
      "userId": "07676539631953903860"
     },
     "user_tz": -330
    },
    "id": "-Yyh3z23kLeT"
   },
   "outputs": [],
   "source": [
    "from sklearn import svm\n",
    "number_of_examples = data.shape[0]\n",
    "C = 4.0\n",
    "gamma = 0.075\n",
    "class_weight = \"balanced\"\n",
    "clf = svm.SVC(C=C, gamma=gamma, kernel='rbf', class_weight=class_weight,cache_size=500, max_iter=-1, shrinking=True, tol=1e-8, probability=True)"
   ]
  },
  {
   "cell_type": "code",
   "execution_count": 6,
   "metadata": {
    "executionInfo": {
     "elapsed": 10,
     "status": "ok",
     "timestamp": 1744775664229,
     "user": {
      "displayName": "Nabdeep Patel",
      "userId": "07676539631953903860"
     },
     "user_tz": -330
    },
    "id": "6J_39O4AkLeU"
   },
   "outputs": [],
   "source": [
    "xdata = np.concatenate(data, axis=0)\n",
    "ydata = np.concatenate((np.ones(positive.shape[0]), np.zeros(negative.shape[0])), axis=0)"
   ]
  },
  {
   "cell_type": "code",
   "execution_count": 7,
   "metadata": {
    "executionInfo": {
     "elapsed": 17,
     "status": "ok",
     "timestamp": 1744775664971,
     "user": {
      "displayName": "Nabdeep Patel",
      "userId": "07676539631953903860"
     },
     "user_tz": -330
    },
    "id": "ic2-AtowkLeV"
   },
   "outputs": [],
   "source": [
    "def confusion_table(pred, labels):\n",
    "    \"\"\"\n",
    "    computes the number of TP, TN, FP, FN events given the arrays with predictions and true labels\n",
    "    and returns the true skill score\n",
    "\n",
    "    Args:\n",
    "    pred: np array with predictions (1 for flare, 0 for nonflare)\n",
    "    labels: np array with true labels (1 for flare, 0 for nonflare)\n",
    "\n",
    "    Returns: true negative, false positive, true positive, false negative\n",
    "    \"\"\"\n",
    "    Nobs = len(pred)\n",
    "    TN = 0.\n",
    "    TP = 0.\n",
    "    FP = 0.\n",
    "    FN = 0.\n",
    "    for i in range(Nobs):\n",
    "        if (pred[i] == 0 and labels[i] == 0):\n",
    "            TN += 1\n",
    "        elif (pred[i] == 1 and labels[i] == 0):\n",
    "            FP += 1\n",
    "        elif (pred[i] == 1 and labels[i] == 1):\n",
    "            TP += 1\n",
    "        elif (pred[i] == 0 and labels[i] == 1):\n",
    "            FN += 1\n",
    "        else:\n",
    "            print(\"Error! Observation could not be classified.\")\n",
    "    return TN, FP, TP, FN"
   ]
  },
  {
   "cell_type": "code",
   "execution_count": 8,
   "metadata": {
    "executionInfo": {
     "elapsed": 486613,
     "status": "ok",
     "timestamp": 1744776153540,
     "user": {
      "displayName": "Nabdeep Patel",
      "userId": "07676539631953903860"
     },
     "user_tz": -330
    },
    "id": "nybebfEXkLeW"
   },
   "outputs": [],
   "source": [
    "from sklearn.model_selection import StratifiedKFold\n",
    "\n",
    "# lists to hold the TSS and standard deviation of the TSS\n",
    "array_of_avg_TSS = np.ndarray([50])\n",
    "array_of_std_TSS = np.ndarray([50])\n",
    "\n",
    "# xdata are the examples\n",
    "# ydata are the labels\n",
    "xdata = data\n",
    "ydata = np.concatenate((np.ones(positive.shape[0]), np.zeros(negative.shape[0])), axis=0)\n",
    "\n",
    "# compute the TSS for a variety of k ranging from 2 to 52\n",
    "# this is to see how the TSS varies as a function of k, and to test if k=10 really makes sense\n",
    "for k in range(2, 52):\n",
    "    skf = StratifiedKFold(n_splits=k, shuffle=True,random_state=42)\n",
    "    these_TSS_for_this_k = []\n",
    "    for train_index, test_index in skf.split(xdata, ydata):\n",
    "        # xtrain are the examples in the training set\n",
    "        xtrain = xdata[train_index]\n",
    "        # ytrain are the labels in the training set\n",
    "        ytrain = ydata[train_index]\n",
    "        # xtest are the examples in the testing set\n",
    "        xtest = xdata[test_index]\n",
    "        ytest = ydata[test_index]    # ytest are the labels in the testing set\n",
    "        clf.fit(xtrain, ytrain)\n",
    "        TN, FP, TP, FN = confusion_table(clf.predict(xtest), ytest)\n",
    "        if (((TP+FN) == 0.0) or (FP+TN) == 0.0):\n",
    "            these_TSS_for_this_k.append(np.nan)\n",
    "            continue\n",
    "        else:\n",
    "            these_TSS_for_this_k.append(TP/(TP+FN) - FP/(FP+TN))\n",
    "    TSS_k = np.array(these_TSS_for_this_k)\n",
    "    array_of_avg_TSS[k-2] = np.mean(TSS_k)\n",
    "    array_of_std_TSS[k-2] = np.std(TSS_k)"
   ]
  },
  {
   "cell_type": "code",
   "execution_count": 9,
   "metadata": {
    "colab": {
     "base_uri": "https://localhost:8080/",
     "height": 495
    },
    "executionInfo": {
     "elapsed": 511,
     "status": "ok",
     "timestamp": 1744776154055,
     "user": {
      "displayName": "Nabdeep Patel",
      "userId": "07676539631953903860"
     },
     "user_tz": -330
    },
    "id": "qlVD0phAkLeX",
    "outputId": "c420d401-6628-4c91-bc49-f5b78ce48586"
   },
   "outputs": [
    {
     "data": {
      "image/png": "[encoded data removed]",
      "text/plain": [
       "<Figure size 1000x500 with 1 Axes>"
      ]
     },
     "metadata": {},
     "output_type": "display_data"
    }
   ],
   "source": [
    "fig, ax = plt.subplots(figsize=(10, 8))      # define the size of the figure\n",
    "orangered = (1.0, 0.27, 0, 1.0)              # create an orange-red color\n",
    "cornblue = (0.39, 0.58, 0.93, 1.0)           # create a cornflower-blue color\n",
    "\n",
    "# define some style elements\n",
    "marker_style_red = dict(linestyle='', markersize=8,\n",
    "                        fillstyle='full', color=orangered, markeredgecolor=orangered)\n",
    "marker_style_blue = dict(linestyle='', markersize=8,\n",
    "                         fillstyle='full', color=cornblue, markeredgecolor=cornblue)\n",
    "text_style = dict(fontsize=16, fontdict={'family': 'monospace'})\n",
    "\n",
    "# ascribe the data to the axes\n",
    "k = np.arange(50)+2\n",
    "for i in range(50):\n",
    "    if (array_of_avg_TSS[i] > array_of_std_TSS[i]):\n",
    "        ax.errorbar(k[i], array_of_avg_TSS[i],yerr=array_of_std_TSS[i], linestyle='', color=orangered)\n",
    "        ax.plot(k[i], array_of_avg_TSS[i], 'o', **marker_style_red)\n",
    "    if (array_of_avg_TSS[i] <= array_of_std_TSS[i]):\n",
    "        ax.errorbar(k[i], array_of_avg_TSS[i],yerr=array_of_std_TSS[i], linestyle='', color=cornblue)\n",
    "        ax.plot(k[i], array_of_avg_TSS[i], 'o', **marker_style_blue)\n",
    "\n",
    "# set plot limits\n",
    "plt.xlim(xmax=52, xmin=0)\n",
    "plt.ylim(ymax=1.1, ymin=0)\n",
    "\n",
    "# label the axes and the plot\n",
    "ax.set_xlabel('k', **text_style)\n",
    "ax.set_ylabel('TSS', labelpad=20, **text_style)\n",
    "plt.title(r'TSS per k using stratified k-fold cross-validation', **text_style)\n",
    "fig = plt.gcf()\n",
    "fig.set_size_inches(10, 5)"
   ]
  },
  {
   "cell_type": "code",
   "execution_count": 10,
   "metadata": {
    "colab": {
     "base_uri": "https://localhost:8080/"
    },
    "executionInfo": {
     "elapsed": 9,
     "status": "ok",
     "timestamp": 1744776154068,
     "user": {
      "displayName": "Nabdeep Patel",
      "userId": "07676539631953903860"
     },
     "user_tz": -330
    },
    "id": "jrlDEf1LkLeY",
    "outputId": "bbd87951-48d0-4bbc-e16e-f7ccd805521b"
   },
   "outputs": [
    {
     "name": "stdout",
     "output_type": "stream",
     "text": [
      "The TSS equals 0.616346062505937 plus or minus 0.06258418576789415 .\n"
     ]
    }
   ],
   "source": [
    "print(\"The TSS equals\", array_of_avg_TSS[9],\"plus or minus\", array_of_std_TSS[9], \".\")"
   ]
  },
  {
   "cell_type": "code",
   "execution_count": 11,
   "metadata": {
    "colab": {
     "base_uri": "https://localhost:8080/"
    },
    "executionInfo": {
     "elapsed": 41,
     "status": "ok",
     "timestamp": 1744776154111,
     "user": {
      "displayName": "Nabdeep Patel",
      "userId": "07676539631953903860"
     },
     "user_tz": -330
    },
    "id": "1bIA106RkLeY",
    "outputId": "20bf1c7a-9347-4c9f-81dd-c0a0812fa3e1"
   },
   "outputs": [
    {
     "data": {
      "text/plain": [
       "(1289, 18)"
      ]
     },
     "execution_count": 11,
     "metadata": {},
     "output_type": "execute_result"
    }
   ],
   "source": [
    "data.shape"
   ]
  },
  {
   "cell_type": "code",
   "execution_count": 12,
   "metadata": {
    "colab": {
     "base_uri": "https://localhost:8080/"
    },
    "executionInfo": {
     "elapsed": 10,
     "status": "ok",
     "timestamp": 1744776154124,
     "user": {
      "displayName": "Nabdeep Patel",
      "userId": "07676539631953903860"
     },
     "user_tz": -330
    },
    "id": "GF2ev2fikLeZ",
    "outputId": "bf2e262a-6d56-4720-c53b-f9318247eda2"
   },
   "outputs": [
    {
     "data": {
      "text/plain": [
       "(323, 18)"
      ]
     },
     "execution_count": 12,
     "metadata": {},
     "output_type": "execute_result"
    }
   ],
   "source": [
    "positive.shape"
   ]
  },
  {
   "cell_type": "code",
   "execution_count": 13,
   "metadata": {
    "colab": {
     "base_uri": "https://localhost:8080/"
    },
    "executionInfo": {
     "elapsed": 6,
     "status": "ok",
     "timestamp": 1744776154133,
     "user": {
      "displayName": "Nabdeep Patel",
      "userId": "07676539631953903860"
     },
     "user_tz": -330
    },
    "id": "6_1aYVMvkLeZ",
    "outputId": "0cc65dec-d720-4578-9fda-74c20bde4d84"
   },
   "outputs": [
    {
     "data": {
      "text/plain": [
       "(966, 18)"
      ]
     },
     "execution_count": 13,
     "metadata": {},
     "output_type": "execute_result"
    }
   ],
   "source": [
    "negative.shape"
   ]
  }
 ],
 "metadata": {
  "colab": {
   "provenance": []
  },
  "kernelspec": {
   "display_name": "Python 3",
   "language": "python",
   "name": "python3"
  },
  "language_info": {
   "codemirror_mode": {
    "name": "ipython",
    "version": 3
   },
   "file_extension": ".py",
   "mimetype": "text/x-python",
   "name": "python",
   "nbconvert_exporter": "python",
   "pygments_lexer": "ipython3",
   "version": "3.12.1"
  }
 },
 "nbformat": 4,
 "nbformat_minor": 0
}
